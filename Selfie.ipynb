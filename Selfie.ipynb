{
 "cells": [
  {
   "cell_type": "code",
   "execution_count": 2,
   "metadata": {},
   "outputs": [
    {
     "data": {
      "text/html": [
       "<div>\n",
       "<style scoped>\n",
       "    .dataframe tbody tr th:only-of-type {\n",
       "        vertical-align: middle;\n",
       "    }\n",
       "\n",
       "    .dataframe tbody tr th {\n",
       "        vertical-align: top;\n",
       "    }\n",
       "\n",
       "    .dataframe thead th {\n",
       "        text-align: right;\n",
       "    }\n",
       "</style>\n",
       "<table border=\"1\" class=\"dataframe\">\n",
       "  <thead>\n",
       "    <tr style=\"text-align: right;\">\n",
       "      <th></th>\n",
       "      <th>DrugBank ID</th>\n",
       "      <th>Name</th>\n",
       "      <th>Drug Groups</th>\n",
       "      <th>SMILES</th>\n",
       "    </tr>\n",
       "  </thead>\n",
       "  <tbody>\n",
       "    <tr>\n",
       "      <th>0</th>\n",
       "      <td>DB00006</td>\n",
       "      <td>Bivalirudin</td>\n",
       "      <td>approved; investigational</td>\n",
       "      <td>CC[C@H](C)[C@H](NC(=O)[C@H](CCC(O)=O)NC(=O)[C@...</td>\n",
       "    </tr>\n",
       "    <tr>\n",
       "      <th>1</th>\n",
       "      <td>DB00007</td>\n",
       "      <td>Leuprolide</td>\n",
       "      <td>approved; investigational</td>\n",
       "      <td>CCNC(=O)[C@@H]1CCCN1C(=O)[C@H](CCCNC(N)=N)NC(=...</td>\n",
       "    </tr>\n",
       "    <tr>\n",
       "      <th>2</th>\n",
       "      <td>DB00014</td>\n",
       "      <td>Goserelin</td>\n",
       "      <td>approved</td>\n",
       "      <td>CC(C)C[C@H](NC(=O)[C@@H](COC(C)(C)C)NC(=O)[C@H...</td>\n",
       "    </tr>\n",
       "    <tr>\n",
       "      <th>3</th>\n",
       "      <td>DB00027</td>\n",
       "      <td>Gramicidin D</td>\n",
       "      <td>approved</td>\n",
       "      <td>CC(C)C[C@@H](NC(=O)CNC(=O)[C@@H](NC=O)C(C)C)C(...</td>\n",
       "    </tr>\n",
       "    <tr>\n",
       "      <th>4</th>\n",
       "      <td>DB00035</td>\n",
       "      <td>Desmopressin</td>\n",
       "      <td>approved</td>\n",
       "      <td>NC(=O)CC[C@@H]1NC(=O)[C@H](CC2=CC=CC=C2)NC(=O)...</td>\n",
       "    </tr>\n",
       "    <tr>\n",
       "      <th>...</th>\n",
       "      <td>...</td>\n",
       "      <td>...</td>\n",
       "      <td>...</td>\n",
       "      <td>...</td>\n",
       "    </tr>\n",
       "    <tr>\n",
       "      <th>11290</th>\n",
       "      <td>DB16735</td>\n",
       "      <td>PAT-1251</td>\n",
       "      <td>investigational</td>\n",
       "      <td>NCC1=CC(=NC(OC2=CC(=CC=C2)C(=O)N2C[C@@H](O)[C@...</td>\n",
       "    </tr>\n",
       "    <tr>\n",
       "      <th>11291</th>\n",
       "      <td>DB16737</td>\n",
       "      <td>MM3122</td>\n",
       "      <td>experimental</td>\n",
       "      <td>CC(=O)NCC(=O)N[C@@H](CCC(N)=O)C(=O)N[C@@H](CC1...</td>\n",
       "    </tr>\n",
       "    <tr>\n",
       "      <th>11292</th>\n",
       "      <td>DB16739</td>\n",
       "      <td>MK-886</td>\n",
       "      <td>experimental</td>\n",
       "      <td>CC(C)C1=CC=C2N(CC3=CC=C(Cl)C=C3)C(CC(C)(C)C(O)...</td>\n",
       "    </tr>\n",
       "    <tr>\n",
       "      <th>11293</th>\n",
       "      <td>DB16741</td>\n",
       "      <td>Bortezomib D-mannitol</td>\n",
       "      <td>approved</td>\n",
       "      <td>[H][C@@]1(OB(O[C@]1([H])[C@H](O)CO)[C@H](CC(C)...</td>\n",
       "    </tr>\n",
       "    <tr>\n",
       "      <th>11294</th>\n",
       "      <td>DB16745</td>\n",
       "      <td>PXT 3003</td>\n",
       "      <td>investigational</td>\n",
       "      <td>CCOC(=O)C1=CC(NCC2=CC=CC=C2)=C(NC2CCCCC2)N=C1</td>\n",
       "    </tr>\n",
       "  </tbody>\n",
       "</table>\n",
       "<p>11295 rows × 4 columns</p>\n",
       "</div>"
      ],
      "text/plain": [
       "      DrugBank ID                   Name                Drug Groups  \\\n",
       "0         DB00006            Bivalirudin  approved; investigational   \n",
       "1         DB00007             Leuprolide  approved; investigational   \n",
       "2         DB00014              Goserelin                   approved   \n",
       "3         DB00027           Gramicidin D                   approved   \n",
       "4         DB00035           Desmopressin                   approved   \n",
       "...           ...                    ...                        ...   \n",
       "11290     DB16735               PAT-1251            investigational   \n",
       "11291     DB16737                 MM3122               experimental   \n",
       "11292     DB16739                 MK-886               experimental   \n",
       "11293     DB16741  Bortezomib D-mannitol                   approved   \n",
       "11294     DB16745               PXT 3003            investigational   \n",
       "\n",
       "                                                  SMILES  \n",
       "0      CC[C@H](C)[C@H](NC(=O)[C@H](CCC(O)=O)NC(=O)[C@...  \n",
       "1      CCNC(=O)[C@@H]1CCCN1C(=O)[C@H](CCCNC(N)=N)NC(=...  \n",
       "2      CC(C)C[C@H](NC(=O)[C@@H](COC(C)(C)C)NC(=O)[C@H...  \n",
       "3      CC(C)C[C@@H](NC(=O)CNC(=O)[C@@H](NC=O)C(C)C)C(...  \n",
       "4      NC(=O)CC[C@@H]1NC(=O)[C@H](CC2=CC=CC=C2)NC(=O)...  \n",
       "...                                                  ...  \n",
       "11290  NCC1=CC(=NC(OC2=CC(=CC=C2)C(=O)N2C[C@@H](O)[C@...  \n",
       "11291  CC(=O)NCC(=O)N[C@@H](CCC(N)=O)C(=O)N[C@@H](CC1...  \n",
       "11292  CC(C)C1=CC=C2N(CC3=CC=C(Cl)C=C3)C(CC(C)(C)C(O)...  \n",
       "11293  [H][C@@]1(OB(O[C@]1([H])[C@H](O)CO)[C@H](CC(C)...  \n",
       "11294      CCOC(=O)C1=CC(NCC2=CC=CC=C2)=C(NC2CCCCC2)N=C1  \n",
       "\n",
       "[11295 rows x 4 columns]"
      ]
     },
     "execution_count": 2,
     "metadata": {},
     "output_type": "execute_result"
    }
   ],
   "source": [
    "import pandas as pd\n",
    "import warnings\n",
    "warnings.filterwarnings(\"ignore\")\n",
    "\n",
    "df = pd.read_csv('structure links.csv')\n",
    "df"
   ]
  },
  {
   "cell_type": "code",
   "execution_count": 3,
   "metadata": {},
   "outputs": [],
   "source": [
    "# !pip install selfies"
   ]
  },
  {
   "cell_type": "code",
   "execution_count": 4,
   "metadata": {},
   "outputs": [
    {
     "data": {
      "text/plain": [
       "'CC[C@H](C)[C@H](NC(=O)[C@H](CCC(O)=O)NC(=O)[C@H](CCC(O)=O)NC(=O)[C@H](CC1=CC=CC=C1)NC(=O)[C@H](CC(O)=O)NC(=O)CNC(=O)[C@H](CC(N)=O)NC(=O)CNC(=O)CNC(=O)CNC(=O)CNC(=O)[C@@H]1CCCN1C(=O)[C@H](CCCNC(N)=N)NC(=O)[C@@H]1CCCN1C(=O)[C@H](N)CC1=CC=CC=C1)C(=O)N1CCC[C@H]1C(=O)N[C@@H](CCC(O)=O)C(=O)N[C@@H](CCC(O)=O)C(=O)N[C@@H](CC1=CC=C(O)C=C1)C(=O)N[C@@H](CC(C)C)C(O)=O'"
      ]
     },
     "execution_count": 4,
     "metadata": {},
     "output_type": "execute_result"
    }
   ],
   "source": [
    "import selfies as sf\n",
    "df['SMILES']=df['SMILES'].astype(str)\n",
    "df = df.dropna()\n",
    "df['SMILES'][0]"
   ]
  },
  {
   "cell_type": "code",
   "execution_count": 5,
   "metadata": {},
   "outputs": [
    {
     "data": {
      "text/html": [
       "<div>\n",
       "<style scoped>\n",
       "    .dataframe tbody tr th:only-of-type {\n",
       "        vertical-align: middle;\n",
       "    }\n",
       "\n",
       "    .dataframe tbody tr th {\n",
       "        vertical-align: top;\n",
       "    }\n",
       "\n",
       "    .dataframe thead th {\n",
       "        text-align: right;\n",
       "    }\n",
       "</style>\n",
       "<table border=\"1\" class=\"dataframe\">\n",
       "  <thead>\n",
       "    <tr style=\"text-align: right;\">\n",
       "      <th></th>\n",
       "      <th>DrugBank ID</th>\n",
       "      <th>Name</th>\n",
       "      <th>Drug Groups</th>\n",
       "      <th>SMILES</th>\n",
       "      <th>selfies</th>\n",
       "    </tr>\n",
       "  </thead>\n",
       "  <tbody>\n",
       "    <tr>\n",
       "      <th>0</th>\n",
       "      <td>DB00006</td>\n",
       "      <td>Bivalirudin</td>\n",
       "      <td>approved; investigational</td>\n",
       "      <td>CC[C@H](C)[C@H](NC(=O)[C@H](CCC(O)=O)NC(=O)[C@...</td>\n",
       "      <td>Nan</td>\n",
       "    </tr>\n",
       "    <tr>\n",
       "      <th>1</th>\n",
       "      <td>DB00007</td>\n",
       "      <td>Leuprolide</td>\n",
       "      <td>approved; investigational</td>\n",
       "      <td>CCNC(=O)[C@@H]1CCCN1C(=O)[C@H](CCCNC(N)=N)NC(=...</td>\n",
       "      <td>Nan</td>\n",
       "    </tr>\n",
       "    <tr>\n",
       "      <th>2</th>\n",
       "      <td>DB00014</td>\n",
       "      <td>Goserelin</td>\n",
       "      <td>approved</td>\n",
       "      <td>CC(C)C[C@H](NC(=O)[C@@H](COC(C)(C)C)NC(=O)[C@H...</td>\n",
       "      <td>Nan</td>\n",
       "    </tr>\n",
       "    <tr>\n",
       "      <th>3</th>\n",
       "      <td>DB00027</td>\n",
       "      <td>Gramicidin D</td>\n",
       "      <td>approved</td>\n",
       "      <td>CC(C)C[C@@H](NC(=O)CNC(=O)[C@@H](NC=O)C(C)C)C(...</td>\n",
       "      <td>Nan</td>\n",
       "    </tr>\n",
       "    <tr>\n",
       "      <th>4</th>\n",
       "      <td>DB00035</td>\n",
       "      <td>Desmopressin</td>\n",
       "      <td>approved</td>\n",
       "      <td>NC(=O)CC[C@@H]1NC(=O)[C@H](CC2=CC=CC=C2)NC(=O)...</td>\n",
       "      <td>Nan</td>\n",
       "    </tr>\n",
       "    <tr>\n",
       "      <th>...</th>\n",
       "      <td>...</td>\n",
       "      <td>...</td>\n",
       "      <td>...</td>\n",
       "      <td>...</td>\n",
       "      <td>...</td>\n",
       "    </tr>\n",
       "    <tr>\n",
       "      <th>11290</th>\n",
       "      <td>DB16735</td>\n",
       "      <td>PAT-1251</td>\n",
       "      <td>investigational</td>\n",
       "      <td>NCC1=CC(=NC(OC2=CC(=CC=C2)C(=O)N2C[C@@H](O)[C@...</td>\n",
       "      <td>Nan</td>\n",
       "    </tr>\n",
       "    <tr>\n",
       "      <th>11291</th>\n",
       "      <td>DB16737</td>\n",
       "      <td>MM3122</td>\n",
       "      <td>experimental</td>\n",
       "      <td>CC(=O)NCC(=O)N[C@@H](CCC(N)=O)C(=O)N[C@@H](CC1...</td>\n",
       "      <td>Nan</td>\n",
       "    </tr>\n",
       "    <tr>\n",
       "      <th>11292</th>\n",
       "      <td>DB16739</td>\n",
       "      <td>MK-886</td>\n",
       "      <td>experimental</td>\n",
       "      <td>CC(C)C1=CC=C2N(CC3=CC=C(Cl)C=C3)C(CC(C)(C)C(O)...</td>\n",
       "      <td>Nan</td>\n",
       "    </tr>\n",
       "    <tr>\n",
       "      <th>11293</th>\n",
       "      <td>DB16741</td>\n",
       "      <td>Bortezomib D-mannitol</td>\n",
       "      <td>approved</td>\n",
       "      <td>[H][C@@]1(OB(O[C@]1([H])[C@H](O)CO)[C@H](CC(C)...</td>\n",
       "      <td>Nan</td>\n",
       "    </tr>\n",
       "    <tr>\n",
       "      <th>11294</th>\n",
       "      <td>DB16745</td>\n",
       "      <td>PXT 3003</td>\n",
       "      <td>investigational</td>\n",
       "      <td>CCOC(=O)C1=CC(NCC2=CC=CC=C2)=C(NC2CCCCC2)N=C1</td>\n",
       "      <td>Nan</td>\n",
       "    </tr>\n",
       "  </tbody>\n",
       "</table>\n",
       "<p>11295 rows × 5 columns</p>\n",
       "</div>"
      ],
      "text/plain": [
       "      DrugBank ID                   Name                Drug Groups  \\\n",
       "0         DB00006            Bivalirudin  approved; investigational   \n",
       "1         DB00007             Leuprolide  approved; investigational   \n",
       "2         DB00014              Goserelin                   approved   \n",
       "3         DB00027           Gramicidin D                   approved   \n",
       "4         DB00035           Desmopressin                   approved   \n",
       "...           ...                    ...                        ...   \n",
       "11290     DB16735               PAT-1251            investigational   \n",
       "11291     DB16737                 MM3122               experimental   \n",
       "11292     DB16739                 MK-886               experimental   \n",
       "11293     DB16741  Bortezomib D-mannitol                   approved   \n",
       "11294     DB16745               PXT 3003            investigational   \n",
       "\n",
       "                                                  SMILES selfies  \n",
       "0      CC[C@H](C)[C@H](NC(=O)[C@H](CCC(O)=O)NC(=O)[C@...     Nan  \n",
       "1      CCNC(=O)[C@@H]1CCCN1C(=O)[C@H](CCCNC(N)=N)NC(=...     Nan  \n",
       "2      CC(C)C[C@H](NC(=O)[C@@H](COC(C)(C)C)NC(=O)[C@H...     Nan  \n",
       "3      CC(C)C[C@@H](NC(=O)CNC(=O)[C@@H](NC=O)C(C)C)C(...     Nan  \n",
       "4      NC(=O)CC[C@@H]1NC(=O)[C@H](CC2=CC=CC=C2)NC(=O)...     Nan  \n",
       "...                                                  ...     ...  \n",
       "11290  NCC1=CC(=NC(OC2=CC(=CC=C2)C(=O)N2C[C@@H](O)[C@...     Nan  \n",
       "11291  CC(=O)NCC(=O)N[C@@H](CCC(N)=O)C(=O)N[C@@H](CC1...     Nan  \n",
       "11292  CC(C)C1=CC=C2N(CC3=CC=C(Cl)C=C3)C(CC(C)(C)C(O)...     Nan  \n",
       "11293  [H][C@@]1(OB(O[C@]1([H])[C@H](O)CO)[C@H](CC(C)...     Nan  \n",
       "11294      CCOC(=O)C1=CC(NCC2=CC=CC=C2)=C(NC2CCCCC2)N=C1     Nan  \n",
       "\n",
       "[11295 rows x 5 columns]"
      ]
     },
     "execution_count": 5,
     "metadata": {},
     "output_type": "execute_result"
    }
   ],
   "source": [
    "df['selfies']='Nan'\n",
    "df   "
   ]
  },
  {
   "cell_type": "code",
   "execution_count": 6,
   "metadata": {},
   "outputs": [],
   "source": [
    "import numpy as np"
   ]
  },
  {
   "cell_type": "code",
   "execution_count": 7,
   "metadata": {},
   "outputs": [],
   "source": [
    "for i in range(0,11295 ):\n",
    "    try:\n",
    "        df['selfies'][i]= sf.encoder(df['SMILES'][i])\n",
    "    except:\n",
    "        df['selfies'][i]=np.nan"
   ]
  },
  {
   "cell_type": "code",
   "execution_count": 8,
   "metadata": {},
   "outputs": [],
   "source": [
    "df = df.dropna().reset_index()\n",
    "array=list(df['selfies'])"
   ]
  },
  {
   "cell_type": "code",
   "execution_count": 9,
   "metadata": {},
   "outputs": [
    {
     "data": {
      "text/plain": [
       "0        [C][C][C@H1][Branch1][C][C][C@H1][Branch2][N][...\n",
       "1        [C][C][N][C][=Branch1][C][=O][C@@H1][C][C][C][...\n",
       "2        [C][C][Branch1][C][C][C][C@H1][Branch2][Branch...\n",
       "3        [C][C][Branch1][C][C][C][C@@H1][Branch2][Ring1...\n",
       "4        [N][C][=Branch1][C][=O][C][C][C@@H1][N][C][=Br...\n",
       "                               ...                        \n",
       "11234    [N][C][C][=C][C][=Branch2][Ring2][=Branch1][=N...\n",
       "11235    [C][C][=Branch1][C][=O][N][C][C][=Branch1][C][...\n",
       "11236    [C][C][Branch1][C][C][C][=C][C][=C][N][Branch1...\n",
       "11237    [H][C@@][Branch2][Branch1][=Branch2][O][B][Bra...\n",
       "11238    [C][C][O][C][=Branch1][C][=O][C][=C][C][Branch...\n",
       "Name: selfies, Length: 11239, dtype: object"
      ]
     },
     "execution_count": 9,
     "metadata": {},
     "output_type": "execute_result"
    }
   ],
   "source": [
    "df['selfies']"
   ]
  },
  {
   "cell_type": "code",
   "execution_count": 10,
   "metadata": {},
   "outputs": [],
   "source": [
    "for i in range(0,11238):\n",
    "    array[i]=array[i].split('][')\n",
    "    array[i][0]=array[i][0].replace('[', '')\n",
    "    array[i][-1]=array[i][-1].replace(']', '')"
   ]
  },
  {
   "cell_type": "code",
   "execution_count": 11,
   "metadata": {},
   "outputs": [],
   "source": [
    "# !pip install gensim"
   ]
  },
  {
   "cell_type": "code",
   "execution_count": 12,
   "metadata": {},
   "outputs": [],
   "source": [
    "# !pip install --upgrade numpy scipy"
   ]
  },
  {
   "cell_type": "code",
   "execution_count": 13,
   "metadata": {},
   "outputs": [],
   "source": [
    "# !pip install gensim==4.3.0 \n",
    "# numpy==1.24.3 \n",
    "# !pip install scipy==1.11.2"
   ]
  },
  {
   "cell_type": "code",
   "execution_count": 14,
   "metadata": {},
   "outputs": [],
   "source": [
    "from gensim.models import Word2Vec\n",
    "model = Word2Vec(sentences=array, vector_size=100, window=5, min_count=1, workers=4)\n",
    "model.save(\"word2vec.model\")"
   ]
  },
  {
   "cell_type": "code",
   "execution_count": 15,
   "metadata": {},
   "outputs": [],
   "source": [
    "model.build_vocab(array)"
   ]
  },
  {
   "cell_type": "code",
   "execution_count": 16,
   "metadata": {},
   "outputs": [],
   "source": [
    "vector=model.wv['C']\n",
    "sims = model.wv.most_similar('C', topn=10)"
   ]
  },
  {
   "cell_type": "code",
   "execution_count": 17,
   "metadata": {},
   "outputs": [],
   "source": [
    "word_vectors = model.wv"
   ]
  },
  {
   "cell_type": "code",
   "execution_count": 18,
   "metadata": {},
   "outputs": [],
   "source": [
    "from gensim.models.doc2vec import Doc2Vec, TaggedDocument"
   ]
  },
  {
   "cell_type": "code",
   "execution_count": 19,
   "metadata": {},
   "outputs": [],
   "source": [
    "documents = [TaggedDocument(doc, [i]) for i, doc in enumerate(array)]\n",
    "model = Doc2Vec(documents, vector_size=100, window=2, min_count=1, workers=4)"
   ]
  },
  {
   "cell_type": "code",
   "execution_count": 20,
   "metadata": {},
   "outputs": [],
   "source": [
    "matrix=model.dv.get_normed_vectors()"
   ]
  },
  {
   "cell_type": "code",
   "execution_count": 21,
   "metadata": {},
   "outputs": [],
   "source": [
    "df_dv=pd.DataFrame(matrix.tolist())"
   ]
  },
  {
   "cell_type": "code",
   "execution_count": 22,
   "metadata": {},
   "outputs": [],
   "source": [
    "df_new = pd.concat([df, df_dv], axis=1)"
   ]
  },
  {
   "cell_type": "code",
   "execution_count": 23,
   "metadata": {},
   "outputs": [],
   "source": [
    "df_new.to_csv('drug_dv.csv')"
   ]
  },
  {
   "cell_type": "code",
   "execution_count": 24,
   "metadata": {},
   "outputs": [],
   "source": [
    "import pandas as pd\n",
    "edge = pd.read_csv('DDI.csv')\n",
    "node_features = pd.read_csv('node_features.csv')\n",
    "node_features.index=node_features['DrugBank ID']"
   ]
  },
  {
   "cell_type": "code",
   "execution_count": 25,
   "metadata": {},
   "outputs": [
    {
     "data": {
      "text/html": [
       "<div>\n",
       "<style scoped>\n",
       "    .dataframe tbody tr th:only-of-type {\n",
       "        vertical-align: middle;\n",
       "    }\n",
       "\n",
       "    .dataframe tbody tr th {\n",
       "        vertical-align: top;\n",
       "    }\n",
       "\n",
       "    .dataframe thead th {\n",
       "        text-align: right;\n",
       "    }\n",
       "</style>\n",
       "<table border=\"1\" class=\"dataframe\">\n",
       "  <thead>\n",
       "    <tr style=\"text-align: right;\">\n",
       "      <th></th>\n",
       "      <th>0</th>\n",
       "      <th>1</th>\n",
       "      <th>2</th>\n",
       "      <th>3</th>\n",
       "      <th>4</th>\n",
       "      <th>5</th>\n",
       "      <th>6</th>\n",
       "      <th>7</th>\n",
       "      <th>8</th>\n",
       "      <th>9</th>\n",
       "      <th>...</th>\n",
       "      <th>90</th>\n",
       "      <th>91</th>\n",
       "      <th>92</th>\n",
       "      <th>93</th>\n",
       "      <th>94</th>\n",
       "      <th>95</th>\n",
       "      <th>96</th>\n",
       "      <th>97</th>\n",
       "      <th>98</th>\n",
       "      <th>99</th>\n",
       "    </tr>\n",
       "    <tr>\n",
       "      <th>DrugBank ID</th>\n",
       "      <th></th>\n",
       "      <th></th>\n",
       "      <th></th>\n",
       "      <th></th>\n",
       "      <th></th>\n",
       "      <th></th>\n",
       "      <th></th>\n",
       "      <th></th>\n",
       "      <th></th>\n",
       "      <th></th>\n",
       "      <th></th>\n",
       "      <th></th>\n",
       "      <th></th>\n",
       "      <th></th>\n",
       "      <th></th>\n",
       "      <th></th>\n",
       "      <th></th>\n",
       "      <th></th>\n",
       "      <th></th>\n",
       "      <th></th>\n",
       "      <th></th>\n",
       "    </tr>\n",
       "  </thead>\n",
       "  <tbody>\n",
       "    <tr>\n",
       "      <th>DB00006</th>\n",
       "      <td>0.122877</td>\n",
       "      <td>-0.090515</td>\n",
       "      <td>-0.075366</td>\n",
       "      <td>0.031643</td>\n",
       "      <td>0.095440</td>\n",
       "      <td>-0.053157</td>\n",
       "      <td>0.040029</td>\n",
       "      <td>-0.035539</td>\n",
       "      <td>0.055253</td>\n",
       "      <td>-0.040285</td>\n",
       "      <td>...</td>\n",
       "      <td>0.115622</td>\n",
       "      <td>-0.108238</td>\n",
       "      <td>-0.076285</td>\n",
       "      <td>0.111395</td>\n",
       "      <td>-0.117893</td>\n",
       "      <td>-0.195370</td>\n",
       "      <td>-0.172501</td>\n",
       "      <td>0.029579</td>\n",
       "      <td>-0.277418</td>\n",
       "      <td>0.188064</td>\n",
       "    </tr>\n",
       "    <tr>\n",
       "      <th>DB00007</th>\n",
       "      <td>0.152444</td>\n",
       "      <td>-0.193899</td>\n",
       "      <td>-0.102517</td>\n",
       "      <td>-0.016207</td>\n",
       "      <td>0.149515</td>\n",
       "      <td>-0.026267</td>\n",
       "      <td>0.051903</td>\n",
       "      <td>0.052790</td>\n",
       "      <td>0.146498</td>\n",
       "      <td>-0.068266</td>\n",
       "      <td>...</td>\n",
       "      <td>-0.109901</td>\n",
       "      <td>-0.095015</td>\n",
       "      <td>-0.048449</td>\n",
       "      <td>0.176152</td>\n",
       "      <td>-0.046172</td>\n",
       "      <td>-0.138750</td>\n",
       "      <td>-0.105260</td>\n",
       "      <td>-0.058032</td>\n",
       "      <td>-0.186344</td>\n",
       "      <td>0.194083</td>\n",
       "    </tr>\n",
       "    <tr>\n",
       "      <th>DB00014</th>\n",
       "      <td>0.046567</td>\n",
       "      <td>-0.105780</td>\n",
       "      <td>-0.043613</td>\n",
       "      <td>-0.091112</td>\n",
       "      <td>0.215184</td>\n",
       "      <td>-0.136261</td>\n",
       "      <td>0.113747</td>\n",
       "      <td>0.102218</td>\n",
       "      <td>0.129476</td>\n",
       "      <td>-0.170769</td>\n",
       "      <td>...</td>\n",
       "      <td>-0.062360</td>\n",
       "      <td>-0.030717</td>\n",
       "      <td>-0.027848</td>\n",
       "      <td>0.044246</td>\n",
       "      <td>0.224420</td>\n",
       "      <td>-0.044897</td>\n",
       "      <td>-0.024015</td>\n",
       "      <td>-0.125997</td>\n",
       "      <td>-0.155581</td>\n",
       "      <td>0.068495</td>\n",
       "    </tr>\n",
       "    <tr>\n",
       "      <th>DB00027</th>\n",
       "      <td>0.097976</td>\n",
       "      <td>-0.139038</td>\n",
       "      <td>-0.046148</td>\n",
       "      <td>-0.008759</td>\n",
       "      <td>0.139863</td>\n",
       "      <td>-0.078267</td>\n",
       "      <td>0.065165</td>\n",
       "      <td>0.017646</td>\n",
       "      <td>0.107471</td>\n",
       "      <td>-0.085115</td>\n",
       "      <td>...</td>\n",
       "      <td>-0.025301</td>\n",
       "      <td>-0.109460</td>\n",
       "      <td>-0.128838</td>\n",
       "      <td>0.166403</td>\n",
       "      <td>-0.109499</td>\n",
       "      <td>-0.143457</td>\n",
       "      <td>-0.177059</td>\n",
       "      <td>0.015968</td>\n",
       "      <td>-0.208228</td>\n",
       "      <td>0.124561</td>\n",
       "    </tr>\n",
       "    <tr>\n",
       "      <th>DB00035</th>\n",
       "      <td>0.166446</td>\n",
       "      <td>-0.144469</td>\n",
       "      <td>-0.027670</td>\n",
       "      <td>-0.134427</td>\n",
       "      <td>0.052022</td>\n",
       "      <td>-0.036635</td>\n",
       "      <td>0.059955</td>\n",
       "      <td>0.098426</td>\n",
       "      <td>0.033268</td>\n",
       "      <td>-0.061395</td>\n",
       "      <td>...</td>\n",
       "      <td>0.106333</td>\n",
       "      <td>-0.081870</td>\n",
       "      <td>-0.023400</td>\n",
       "      <td>0.138693</td>\n",
       "      <td>-0.006185</td>\n",
       "      <td>-0.100560</td>\n",
       "      <td>-0.215361</td>\n",
       "      <td>-0.018916</td>\n",
       "      <td>-0.211364</td>\n",
       "      <td>0.152518</td>\n",
       "    </tr>\n",
       "    <tr>\n",
       "      <th>...</th>\n",
       "      <td>...</td>\n",
       "      <td>...</td>\n",
       "      <td>...</td>\n",
       "      <td>...</td>\n",
       "      <td>...</td>\n",
       "      <td>...</td>\n",
       "      <td>...</td>\n",
       "      <td>...</td>\n",
       "      <td>...</td>\n",
       "      <td>...</td>\n",
       "      <td>...</td>\n",
       "      <td>...</td>\n",
       "      <td>...</td>\n",
       "      <td>...</td>\n",
       "      <td>...</td>\n",
       "      <td>...</td>\n",
       "      <td>...</td>\n",
       "      <td>...</td>\n",
       "      <td>...</td>\n",
       "      <td>...</td>\n",
       "      <td>...</td>\n",
       "    </tr>\n",
       "    <tr>\n",
       "      <th>DB16735</th>\n",
       "      <td>0.064175</td>\n",
       "      <td>-0.029122</td>\n",
       "      <td>-0.012052</td>\n",
       "      <td>-0.062182</td>\n",
       "      <td>0.012103</td>\n",
       "      <td>0.093555</td>\n",
       "      <td>0.100837</td>\n",
       "      <td>-0.001119</td>\n",
       "      <td>0.025028</td>\n",
       "      <td>-0.149725</td>\n",
       "      <td>...</td>\n",
       "      <td>-0.044096</td>\n",
       "      <td>0.085674</td>\n",
       "      <td>-0.131160</td>\n",
       "      <td>0.128274</td>\n",
       "      <td>0.075435</td>\n",
       "      <td>0.027632</td>\n",
       "      <td>-0.045440</td>\n",
       "      <td>-0.129351</td>\n",
       "      <td>0.083246</td>\n",
       "      <td>0.177505</td>\n",
       "    </tr>\n",
       "    <tr>\n",
       "      <th>DB16737</th>\n",
       "      <td>0.211294</td>\n",
       "      <td>-0.177780</td>\n",
       "      <td>-0.003668</td>\n",
       "      <td>-0.141526</td>\n",
       "      <td>0.016267</td>\n",
       "      <td>0.075559</td>\n",
       "      <td>-0.081635</td>\n",
       "      <td>-0.087036</td>\n",
       "      <td>0.113036</td>\n",
       "      <td>0.061266</td>\n",
       "      <td>...</td>\n",
       "      <td>-0.004635</td>\n",
       "      <td>-0.040026</td>\n",
       "      <td>-0.040922</td>\n",
       "      <td>0.103021</td>\n",
       "      <td>-0.149858</td>\n",
       "      <td>-0.027499</td>\n",
       "      <td>-0.221795</td>\n",
       "      <td>-0.063637</td>\n",
       "      <td>-0.203195</td>\n",
       "      <td>0.029449</td>\n",
       "    </tr>\n",
       "    <tr>\n",
       "      <th>DB16739</th>\n",
       "      <td>0.031983</td>\n",
       "      <td>-0.076199</td>\n",
       "      <td>0.025926</td>\n",
       "      <td>-0.155516</td>\n",
       "      <td>-0.057316</td>\n",
       "      <td>0.122120</td>\n",
       "      <td>-0.017688</td>\n",
       "      <td>0.092364</td>\n",
       "      <td>-0.006445</td>\n",
       "      <td>-0.065008</td>\n",
       "      <td>...</td>\n",
       "      <td>-0.081502</td>\n",
       "      <td>0.087130</td>\n",
       "      <td>-0.004139</td>\n",
       "      <td>0.027369</td>\n",
       "      <td>0.157311</td>\n",
       "      <td>0.198962</td>\n",
       "      <td>0.041405</td>\n",
       "      <td>-0.171322</td>\n",
       "      <td>0.141168</td>\n",
       "      <td>-0.008092</td>\n",
       "    </tr>\n",
       "    <tr>\n",
       "      <th>DB16741</th>\n",
       "      <td>0.041677</td>\n",
       "      <td>0.107272</td>\n",
       "      <td>0.016744</td>\n",
       "      <td>0.003149</td>\n",
       "      <td>-0.077386</td>\n",
       "      <td>-0.153230</td>\n",
       "      <td>0.055359</td>\n",
       "      <td>0.185009</td>\n",
       "      <td>-0.132308</td>\n",
       "      <td>-0.180140</td>\n",
       "      <td>...</td>\n",
       "      <td>0.084308</td>\n",
       "      <td>0.030380</td>\n",
       "      <td>-0.066212</td>\n",
       "      <td>0.067498</td>\n",
       "      <td>0.055399</td>\n",
       "      <td>0.058094</td>\n",
       "      <td>0.152626</td>\n",
       "      <td>-0.204737</td>\n",
       "      <td>-0.001392</td>\n",
       "      <td>0.078675</td>\n",
       "    </tr>\n",
       "    <tr>\n",
       "      <th>DB16745</th>\n",
       "      <td>0.016516</td>\n",
       "      <td>-0.059920</td>\n",
       "      <td>0.016891</td>\n",
       "      <td>0.027753</td>\n",
       "      <td>0.008282</td>\n",
       "      <td>0.024628</td>\n",
       "      <td>0.069527</td>\n",
       "      <td>0.178258</td>\n",
       "      <td>-0.109549</td>\n",
       "      <td>-0.155225</td>\n",
       "      <td>...</td>\n",
       "      <td>-0.035983</td>\n",
       "      <td>0.114950</td>\n",
       "      <td>-0.018558</td>\n",
       "      <td>0.091334</td>\n",
       "      <td>0.185387</td>\n",
       "      <td>0.099291</td>\n",
       "      <td>0.003713</td>\n",
       "      <td>-0.129487</td>\n",
       "      <td>0.091416</td>\n",
       "      <td>0.093096</td>\n",
       "    </tr>\n",
       "  </tbody>\n",
       "</table>\n",
       "<p>11239 rows × 100 columns</p>\n",
       "</div>"
      ],
      "text/plain": [
       "                    0         1         2         3         4         5  \\\n",
       "DrugBank ID                                                               \n",
       "DB00006      0.122877 -0.090515 -0.075366  0.031643  0.095440 -0.053157   \n",
       "DB00007      0.152444 -0.193899 -0.102517 -0.016207  0.149515 -0.026267   \n",
       "DB00014      0.046567 -0.105780 -0.043613 -0.091112  0.215184 -0.136261   \n",
       "DB00027      0.097976 -0.139038 -0.046148 -0.008759  0.139863 -0.078267   \n",
       "DB00035      0.166446 -0.144469 -0.027670 -0.134427  0.052022 -0.036635   \n",
       "...               ...       ...       ...       ...       ...       ...   \n",
       "DB16735      0.064175 -0.029122 -0.012052 -0.062182  0.012103  0.093555   \n",
       "DB16737      0.211294 -0.177780 -0.003668 -0.141526  0.016267  0.075559   \n",
       "DB16739      0.031983 -0.076199  0.025926 -0.155516 -0.057316  0.122120   \n",
       "DB16741      0.041677  0.107272  0.016744  0.003149 -0.077386 -0.153230   \n",
       "DB16745      0.016516 -0.059920  0.016891  0.027753  0.008282  0.024628   \n",
       "\n",
       "                    6         7         8         9  ...        90        91  \\\n",
       "DrugBank ID                                          ...                       \n",
       "DB00006      0.040029 -0.035539  0.055253 -0.040285  ...  0.115622 -0.108238   \n",
       "DB00007      0.051903  0.052790  0.146498 -0.068266  ... -0.109901 -0.095015   \n",
       "DB00014      0.113747  0.102218  0.129476 -0.170769  ... -0.062360 -0.030717   \n",
       "DB00027      0.065165  0.017646  0.107471 -0.085115  ... -0.025301 -0.109460   \n",
       "DB00035      0.059955  0.098426  0.033268 -0.061395  ...  0.106333 -0.081870   \n",
       "...               ...       ...       ...       ...  ...       ...       ...   \n",
       "DB16735      0.100837 -0.001119  0.025028 -0.149725  ... -0.044096  0.085674   \n",
       "DB16737     -0.081635 -0.087036  0.113036  0.061266  ... -0.004635 -0.040026   \n",
       "DB16739     -0.017688  0.092364 -0.006445 -0.065008  ... -0.081502  0.087130   \n",
       "DB16741      0.055359  0.185009 -0.132308 -0.180140  ...  0.084308  0.030380   \n",
       "DB16745      0.069527  0.178258 -0.109549 -0.155225  ... -0.035983  0.114950   \n",
       "\n",
       "                   92        93        94        95        96        97  \\\n",
       "DrugBank ID                                                               \n",
       "DB00006     -0.076285  0.111395 -0.117893 -0.195370 -0.172501  0.029579   \n",
       "DB00007     -0.048449  0.176152 -0.046172 -0.138750 -0.105260 -0.058032   \n",
       "DB00014     -0.027848  0.044246  0.224420 -0.044897 -0.024015 -0.125997   \n",
       "DB00027     -0.128838  0.166403 -0.109499 -0.143457 -0.177059  0.015968   \n",
       "DB00035     -0.023400  0.138693 -0.006185 -0.100560 -0.215361 -0.018916   \n",
       "...               ...       ...       ...       ...       ...       ...   \n",
       "DB16735     -0.131160  0.128274  0.075435  0.027632 -0.045440 -0.129351   \n",
       "DB16737     -0.040922  0.103021 -0.149858 -0.027499 -0.221795 -0.063637   \n",
       "DB16739     -0.004139  0.027369  0.157311  0.198962  0.041405 -0.171322   \n",
       "DB16741     -0.066212  0.067498  0.055399  0.058094  0.152626 -0.204737   \n",
       "DB16745     -0.018558  0.091334  0.185387  0.099291  0.003713 -0.129487   \n",
       "\n",
       "                   98        99  \n",
       "DrugBank ID                      \n",
       "DB00006     -0.277418  0.188064  \n",
       "DB00007     -0.186344  0.194083  \n",
       "DB00014     -0.155581  0.068495  \n",
       "DB00027     -0.208228  0.124561  \n",
       "DB00035     -0.211364  0.152518  \n",
       "...               ...       ...  \n",
       "DB16735      0.083246  0.177505  \n",
       "DB16737     -0.203195  0.029449  \n",
       "DB16739      0.141168 -0.008092  \n",
       "DB16741     -0.001392  0.078675  \n",
       "DB16745      0.091416  0.093096  \n",
       "\n",
       "[11239 rows x 100 columns]"
      ]
     },
     "execution_count": 25,
     "metadata": {},
     "output_type": "execute_result"
    }
   ],
   "source": [
    "node_features.drop(['Unnamed: 0','DrugBank ID'],axis=1)"
   ]
  },
  {
   "cell_type": "code",
   "execution_count": 26,
   "metadata": {},
   "outputs": [
    {
     "data": {
      "text/plain": [
       "48514"
      ]
     },
     "execution_count": 26,
     "metadata": {},
     "output_type": "execute_result"
    }
   ],
   "source": [
    "edge.shape[0]"
   ]
  },
  {
   "cell_type": "code",
   "execution_count": 27,
   "metadata": {},
   "outputs": [],
   "source": [
    "missing_target=[]\n",
    "for j in range(0,edge.shape[0]):\n",
    "    if edge['target'][j] not in node_features.index:\n",
    "        missing_target.append(j)\n",
    "edge=edge.drop(index=missing_target)"
   ]
  },
  {
   "cell_type": "code",
   "execution_count": 28,
   "metadata": {},
   "outputs": [],
   "source": [
    "edge=edge.reset_index().drop('index',axis=1)"
   ]
  },
  {
   "cell_type": "code",
   "execution_count": 29,
   "metadata": {},
   "outputs": [],
   "source": [
    "missing_source=[]\n",
    "for i in range(0,edge.shape[0]):\n",
    "    if edge['source'][i] not in node_features.index:\n",
    "        missing_source.append(i)\n",
    "edge=edge.drop(index=missing_source)"
   ]
  },
  {
   "cell_type": "code",
   "execution_count": 30,
   "metadata": {},
   "outputs": [],
   "source": [
    "edge=edge.reset_index().drop('index',axis=1)"
   ]
  },
  {
   "cell_type": "code",
   "execution_count": 31,
   "metadata": {},
   "outputs": [
    {
     "data": {
      "text/plain": [
       "'DB01026'"
      ]
     },
     "execution_count": 31,
     "metadata": {},
     "output_type": "execute_result"
    }
   ],
   "source": [
    "edge['target'][100]"
   ]
  },
  {
   "cell_type": "code",
   "execution_count": 32,
   "metadata": {},
   "outputs": [
    {
     "data": {
      "text/html": [
       "<div>\n",
       "<style scoped>\n",
       "    .dataframe tbody tr th:only-of-type {\n",
       "        vertical-align: middle;\n",
       "    }\n",
       "\n",
       "    .dataframe tbody tr th {\n",
       "        vertical-align: top;\n",
       "    }\n",
       "\n",
       "    .dataframe thead th {\n",
       "        text-align: right;\n",
       "    }\n",
       "</style>\n",
       "<table border=\"1\" class=\"dataframe\">\n",
       "  <thead>\n",
       "    <tr style=\"text-align: right;\">\n",
       "      <th></th>\n",
       "      <th>source</th>\n",
       "      <th>target</th>\n",
       "    </tr>\n",
       "  </thead>\n",
       "  <tbody>\n",
       "    <tr>\n",
       "      <th>0</th>\n",
       "      <td>DB00862</td>\n",
       "      <td>DB00966</td>\n",
       "    </tr>\n",
       "    <tr>\n",
       "      <th>1</th>\n",
       "      <td>DB00575</td>\n",
       "      <td>DB00806</td>\n",
       "    </tr>\n",
       "    <tr>\n",
       "      <th>2</th>\n",
       "      <td>DB01242</td>\n",
       "      <td>DB08893</td>\n",
       "    </tr>\n",
       "    <tr>\n",
       "      <th>3</th>\n",
       "      <td>DB01151</td>\n",
       "      <td>DB08883</td>\n",
       "    </tr>\n",
       "    <tr>\n",
       "      <th>4</th>\n",
       "      <td>DB01235</td>\n",
       "      <td>DB01275</td>\n",
       "    </tr>\n",
       "    <tr>\n",
       "      <th>...</th>\n",
       "      <td>...</td>\n",
       "      <td>...</td>\n",
       "    </tr>\n",
       "    <tr>\n",
       "      <th>41754</th>\n",
       "      <td>DB00542</td>\n",
       "      <td>DB01354</td>\n",
       "    </tr>\n",
       "    <tr>\n",
       "      <th>41755</th>\n",
       "      <td>DB00476</td>\n",
       "      <td>DB01239</td>\n",
       "    </tr>\n",
       "    <tr>\n",
       "      <th>41756</th>\n",
       "      <td>DB00621</td>\n",
       "      <td>DB01120</td>\n",
       "    </tr>\n",
       "    <tr>\n",
       "      <th>41757</th>\n",
       "      <td>DB00808</td>\n",
       "      <td>DB01356</td>\n",
       "    </tr>\n",
       "    <tr>\n",
       "      <th>41758</th>\n",
       "      <td>DB00677</td>\n",
       "      <td>DB06287</td>\n",
       "    </tr>\n",
       "  </tbody>\n",
       "</table>\n",
       "<p>41759 rows × 2 columns</p>\n",
       "</div>"
      ],
      "text/plain": [
       "        source   target\n",
       "0      DB00862  DB00966\n",
       "1      DB00575  DB00806\n",
       "2      DB01242  DB08893\n",
       "3      DB01151  DB08883\n",
       "4      DB01235  DB01275\n",
       "...        ...      ...\n",
       "41754  DB00542  DB01354\n",
       "41755  DB00476  DB01239\n",
       "41756  DB00621  DB01120\n",
       "41757  DB00808  DB01356\n",
       "41758  DB00677  DB06287\n",
       "\n",
       "[41759 rows x 2 columns]"
      ]
     },
     "execution_count": 32,
     "metadata": {},
     "output_type": "execute_result"
    }
   ],
   "source": [
    "edge"
   ]
  },
  {
   "cell_type": "code",
   "execution_count": 33,
   "metadata": {},
   "outputs": [],
   "source": [
    "node_features=node_features.drop(['Unnamed: 0','DrugBank ID'],axis=1)"
   ]
  },
  {
   "cell_type": "code",
   "execution_count": 34,
   "metadata": {},
   "outputs": [
    {
     "data": {
      "text/html": [
       "<div>\n",
       "<style scoped>\n",
       "    .dataframe tbody tr th:only-of-type {\n",
       "        vertical-align: middle;\n",
       "    }\n",
       "\n",
       "    .dataframe tbody tr th {\n",
       "        vertical-align: top;\n",
       "    }\n",
       "\n",
       "    .dataframe thead th {\n",
       "        text-align: right;\n",
       "    }\n",
       "</style>\n",
       "<table border=\"1\" class=\"dataframe\">\n",
       "  <thead>\n",
       "    <tr style=\"text-align: right;\">\n",
       "      <th></th>\n",
       "      <th>0</th>\n",
       "      <th>1</th>\n",
       "      <th>2</th>\n",
       "      <th>3</th>\n",
       "      <th>4</th>\n",
       "      <th>5</th>\n",
       "      <th>6</th>\n",
       "      <th>7</th>\n",
       "      <th>8</th>\n",
       "      <th>9</th>\n",
       "      <th>...</th>\n",
       "      <th>90</th>\n",
       "      <th>91</th>\n",
       "      <th>92</th>\n",
       "      <th>93</th>\n",
       "      <th>94</th>\n",
       "      <th>95</th>\n",
       "      <th>96</th>\n",
       "      <th>97</th>\n",
       "      <th>98</th>\n",
       "      <th>99</th>\n",
       "    </tr>\n",
       "    <tr>\n",
       "      <th>DrugBank ID</th>\n",
       "      <th></th>\n",
       "      <th></th>\n",
       "      <th></th>\n",
       "      <th></th>\n",
       "      <th></th>\n",
       "      <th></th>\n",
       "      <th></th>\n",
       "      <th></th>\n",
       "      <th></th>\n",
       "      <th></th>\n",
       "      <th></th>\n",
       "      <th></th>\n",
       "      <th></th>\n",
       "      <th></th>\n",
       "      <th></th>\n",
       "      <th></th>\n",
       "      <th></th>\n",
       "      <th></th>\n",
       "      <th></th>\n",
       "      <th></th>\n",
       "      <th></th>\n",
       "    </tr>\n",
       "  </thead>\n",
       "  <tbody>\n",
       "    <tr>\n",
       "      <th>DB00006</th>\n",
       "      <td>0.122877</td>\n",
       "      <td>-0.090515</td>\n",
       "      <td>-0.075366</td>\n",
       "      <td>0.031643</td>\n",
       "      <td>0.095440</td>\n",
       "      <td>-0.053157</td>\n",
       "      <td>0.040029</td>\n",
       "      <td>-0.035539</td>\n",
       "      <td>0.055253</td>\n",
       "      <td>-0.040285</td>\n",
       "      <td>...</td>\n",
       "      <td>0.115622</td>\n",
       "      <td>-0.108238</td>\n",
       "      <td>-0.076285</td>\n",
       "      <td>0.111395</td>\n",
       "      <td>-0.117893</td>\n",
       "      <td>-0.195370</td>\n",
       "      <td>-0.172501</td>\n",
       "      <td>0.029579</td>\n",
       "      <td>-0.277418</td>\n",
       "      <td>0.188064</td>\n",
       "    </tr>\n",
       "    <tr>\n",
       "      <th>DB00007</th>\n",
       "      <td>0.152444</td>\n",
       "      <td>-0.193899</td>\n",
       "      <td>-0.102517</td>\n",
       "      <td>-0.016207</td>\n",
       "      <td>0.149515</td>\n",
       "      <td>-0.026267</td>\n",
       "      <td>0.051903</td>\n",
       "      <td>0.052790</td>\n",
       "      <td>0.146498</td>\n",
       "      <td>-0.068266</td>\n",
       "      <td>...</td>\n",
       "      <td>-0.109901</td>\n",
       "      <td>-0.095015</td>\n",
       "      <td>-0.048449</td>\n",
       "      <td>0.176152</td>\n",
       "      <td>-0.046172</td>\n",
       "      <td>-0.138750</td>\n",
       "      <td>-0.105260</td>\n",
       "      <td>-0.058032</td>\n",
       "      <td>-0.186344</td>\n",
       "      <td>0.194083</td>\n",
       "    </tr>\n",
       "    <tr>\n",
       "      <th>DB00014</th>\n",
       "      <td>0.046567</td>\n",
       "      <td>-0.105780</td>\n",
       "      <td>-0.043613</td>\n",
       "      <td>-0.091112</td>\n",
       "      <td>0.215184</td>\n",
       "      <td>-0.136261</td>\n",
       "      <td>0.113747</td>\n",
       "      <td>0.102218</td>\n",
       "      <td>0.129476</td>\n",
       "      <td>-0.170769</td>\n",
       "      <td>...</td>\n",
       "      <td>-0.062360</td>\n",
       "      <td>-0.030717</td>\n",
       "      <td>-0.027848</td>\n",
       "      <td>0.044246</td>\n",
       "      <td>0.224420</td>\n",
       "      <td>-0.044897</td>\n",
       "      <td>-0.024015</td>\n",
       "      <td>-0.125997</td>\n",
       "      <td>-0.155581</td>\n",
       "      <td>0.068495</td>\n",
       "    </tr>\n",
       "    <tr>\n",
       "      <th>DB00027</th>\n",
       "      <td>0.097976</td>\n",
       "      <td>-0.139038</td>\n",
       "      <td>-0.046148</td>\n",
       "      <td>-0.008759</td>\n",
       "      <td>0.139863</td>\n",
       "      <td>-0.078267</td>\n",
       "      <td>0.065165</td>\n",
       "      <td>0.017646</td>\n",
       "      <td>0.107471</td>\n",
       "      <td>-0.085115</td>\n",
       "      <td>...</td>\n",
       "      <td>-0.025301</td>\n",
       "      <td>-0.109460</td>\n",
       "      <td>-0.128838</td>\n",
       "      <td>0.166403</td>\n",
       "      <td>-0.109499</td>\n",
       "      <td>-0.143457</td>\n",
       "      <td>-0.177059</td>\n",
       "      <td>0.015968</td>\n",
       "      <td>-0.208228</td>\n",
       "      <td>0.124561</td>\n",
       "    </tr>\n",
       "    <tr>\n",
       "      <th>DB00035</th>\n",
       "      <td>0.166446</td>\n",
       "      <td>-0.144469</td>\n",
       "      <td>-0.027670</td>\n",
       "      <td>-0.134427</td>\n",
       "      <td>0.052022</td>\n",
       "      <td>-0.036635</td>\n",
       "      <td>0.059955</td>\n",
       "      <td>0.098426</td>\n",
       "      <td>0.033268</td>\n",
       "      <td>-0.061395</td>\n",
       "      <td>...</td>\n",
       "      <td>0.106333</td>\n",
       "      <td>-0.081870</td>\n",
       "      <td>-0.023400</td>\n",
       "      <td>0.138693</td>\n",
       "      <td>-0.006185</td>\n",
       "      <td>-0.100560</td>\n",
       "      <td>-0.215361</td>\n",
       "      <td>-0.018916</td>\n",
       "      <td>-0.211364</td>\n",
       "      <td>0.152518</td>\n",
       "    </tr>\n",
       "    <tr>\n",
       "      <th>...</th>\n",
       "      <td>...</td>\n",
       "      <td>...</td>\n",
       "      <td>...</td>\n",
       "      <td>...</td>\n",
       "      <td>...</td>\n",
       "      <td>...</td>\n",
       "      <td>...</td>\n",
       "      <td>...</td>\n",
       "      <td>...</td>\n",
       "      <td>...</td>\n",
       "      <td>...</td>\n",
       "      <td>...</td>\n",
       "      <td>...</td>\n",
       "      <td>...</td>\n",
       "      <td>...</td>\n",
       "      <td>...</td>\n",
       "      <td>...</td>\n",
       "      <td>...</td>\n",
       "      <td>...</td>\n",
       "      <td>...</td>\n",
       "      <td>...</td>\n",
       "    </tr>\n",
       "    <tr>\n",
       "      <th>DB16735</th>\n",
       "      <td>0.064175</td>\n",
       "      <td>-0.029122</td>\n",
       "      <td>-0.012052</td>\n",
       "      <td>-0.062182</td>\n",
       "      <td>0.012103</td>\n",
       "      <td>0.093555</td>\n",
       "      <td>0.100837</td>\n",
       "      <td>-0.001119</td>\n",
       "      <td>0.025028</td>\n",
       "      <td>-0.149725</td>\n",
       "      <td>...</td>\n",
       "      <td>-0.044096</td>\n",
       "      <td>0.085674</td>\n",
       "      <td>-0.131160</td>\n",
       "      <td>0.128274</td>\n",
       "      <td>0.075435</td>\n",
       "      <td>0.027632</td>\n",
       "      <td>-0.045440</td>\n",
       "      <td>-0.129351</td>\n",
       "      <td>0.083246</td>\n",
       "      <td>0.177505</td>\n",
       "    </tr>\n",
       "    <tr>\n",
       "      <th>DB16737</th>\n",
       "      <td>0.211294</td>\n",
       "      <td>-0.177780</td>\n",
       "      <td>-0.003668</td>\n",
       "      <td>-0.141526</td>\n",
       "      <td>0.016267</td>\n",
       "      <td>0.075559</td>\n",
       "      <td>-0.081635</td>\n",
       "      <td>-0.087036</td>\n",
       "      <td>0.113036</td>\n",
       "      <td>0.061266</td>\n",
       "      <td>...</td>\n",
       "      <td>-0.004635</td>\n",
       "      <td>-0.040026</td>\n",
       "      <td>-0.040922</td>\n",
       "      <td>0.103021</td>\n",
       "      <td>-0.149858</td>\n",
       "      <td>-0.027499</td>\n",
       "      <td>-0.221795</td>\n",
       "      <td>-0.063637</td>\n",
       "      <td>-0.203195</td>\n",
       "      <td>0.029449</td>\n",
       "    </tr>\n",
       "    <tr>\n",
       "      <th>DB16739</th>\n",
       "      <td>0.031983</td>\n",
       "      <td>-0.076199</td>\n",
       "      <td>0.025926</td>\n",
       "      <td>-0.155516</td>\n",
       "      <td>-0.057316</td>\n",
       "      <td>0.122120</td>\n",
       "      <td>-0.017688</td>\n",
       "      <td>0.092364</td>\n",
       "      <td>-0.006445</td>\n",
       "      <td>-0.065008</td>\n",
       "      <td>...</td>\n",
       "      <td>-0.081502</td>\n",
       "      <td>0.087130</td>\n",
       "      <td>-0.004139</td>\n",
       "      <td>0.027369</td>\n",
       "      <td>0.157311</td>\n",
       "      <td>0.198962</td>\n",
       "      <td>0.041405</td>\n",
       "      <td>-0.171322</td>\n",
       "      <td>0.141168</td>\n",
       "      <td>-0.008092</td>\n",
       "    </tr>\n",
       "    <tr>\n",
       "      <th>DB16741</th>\n",
       "      <td>0.041677</td>\n",
       "      <td>0.107272</td>\n",
       "      <td>0.016744</td>\n",
       "      <td>0.003149</td>\n",
       "      <td>-0.077386</td>\n",
       "      <td>-0.153230</td>\n",
       "      <td>0.055359</td>\n",
       "      <td>0.185009</td>\n",
       "      <td>-0.132308</td>\n",
       "      <td>-0.180140</td>\n",
       "      <td>...</td>\n",
       "      <td>0.084308</td>\n",
       "      <td>0.030380</td>\n",
       "      <td>-0.066212</td>\n",
       "      <td>0.067498</td>\n",
       "      <td>0.055399</td>\n",
       "      <td>0.058094</td>\n",
       "      <td>0.152626</td>\n",
       "      <td>-0.204737</td>\n",
       "      <td>-0.001392</td>\n",
       "      <td>0.078675</td>\n",
       "    </tr>\n",
       "    <tr>\n",
       "      <th>DB16745</th>\n",
       "      <td>0.016516</td>\n",
       "      <td>-0.059920</td>\n",
       "      <td>0.016891</td>\n",
       "      <td>0.027753</td>\n",
       "      <td>0.008282</td>\n",
       "      <td>0.024628</td>\n",
       "      <td>0.069527</td>\n",
       "      <td>0.178258</td>\n",
       "      <td>-0.109549</td>\n",
       "      <td>-0.155225</td>\n",
       "      <td>...</td>\n",
       "      <td>-0.035983</td>\n",
       "      <td>0.114950</td>\n",
       "      <td>-0.018558</td>\n",
       "      <td>0.091334</td>\n",
       "      <td>0.185387</td>\n",
       "      <td>0.099291</td>\n",
       "      <td>0.003713</td>\n",
       "      <td>-0.129487</td>\n",
       "      <td>0.091416</td>\n",
       "      <td>0.093096</td>\n",
       "    </tr>\n",
       "  </tbody>\n",
       "</table>\n",
       "<p>11239 rows × 100 columns</p>\n",
       "</div>"
      ],
      "text/plain": [
       "                    0         1         2         3         4         5  \\\n",
       "DrugBank ID                                                               \n",
       "DB00006      0.122877 -0.090515 -0.075366  0.031643  0.095440 -0.053157   \n",
       "DB00007      0.152444 -0.193899 -0.102517 -0.016207  0.149515 -0.026267   \n",
       "DB00014      0.046567 -0.105780 -0.043613 -0.091112  0.215184 -0.136261   \n",
       "DB00027      0.097976 -0.139038 -0.046148 -0.008759  0.139863 -0.078267   \n",
       "DB00035      0.166446 -0.144469 -0.027670 -0.134427  0.052022 -0.036635   \n",
       "...               ...       ...       ...       ...       ...       ...   \n",
       "DB16735      0.064175 -0.029122 -0.012052 -0.062182  0.012103  0.093555   \n",
       "DB16737      0.211294 -0.177780 -0.003668 -0.141526  0.016267  0.075559   \n",
       "DB16739      0.031983 -0.076199  0.025926 -0.155516 -0.057316  0.122120   \n",
       "DB16741      0.041677  0.107272  0.016744  0.003149 -0.077386 -0.153230   \n",
       "DB16745      0.016516 -0.059920  0.016891  0.027753  0.008282  0.024628   \n",
       "\n",
       "                    6         7         8         9  ...        90        91  \\\n",
       "DrugBank ID                                          ...                       \n",
       "DB00006      0.040029 -0.035539  0.055253 -0.040285  ...  0.115622 -0.108238   \n",
       "DB00007      0.051903  0.052790  0.146498 -0.068266  ... -0.109901 -0.095015   \n",
       "DB00014      0.113747  0.102218  0.129476 -0.170769  ... -0.062360 -0.030717   \n",
       "DB00027      0.065165  0.017646  0.107471 -0.085115  ... -0.025301 -0.109460   \n",
       "DB00035      0.059955  0.098426  0.033268 -0.061395  ...  0.106333 -0.081870   \n",
       "...               ...       ...       ...       ...  ...       ...       ...   \n",
       "DB16735      0.100837 -0.001119  0.025028 -0.149725  ... -0.044096  0.085674   \n",
       "DB16737     -0.081635 -0.087036  0.113036  0.061266  ... -0.004635 -0.040026   \n",
       "DB16739     -0.017688  0.092364 -0.006445 -0.065008  ... -0.081502  0.087130   \n",
       "DB16741      0.055359  0.185009 -0.132308 -0.180140  ...  0.084308  0.030380   \n",
       "DB16745      0.069527  0.178258 -0.109549 -0.155225  ... -0.035983  0.114950   \n",
       "\n",
       "                   92        93        94        95        96        97  \\\n",
       "DrugBank ID                                                               \n",
       "DB00006     -0.076285  0.111395 -0.117893 -0.195370 -0.172501  0.029579   \n",
       "DB00007     -0.048449  0.176152 -0.046172 -0.138750 -0.105260 -0.058032   \n",
       "DB00014     -0.027848  0.044246  0.224420 -0.044897 -0.024015 -0.125997   \n",
       "DB00027     -0.128838  0.166403 -0.109499 -0.143457 -0.177059  0.015968   \n",
       "DB00035     -0.023400  0.138693 -0.006185 -0.100560 -0.215361 -0.018916   \n",
       "...               ...       ...       ...       ...       ...       ...   \n",
       "DB16735     -0.131160  0.128274  0.075435  0.027632 -0.045440 -0.129351   \n",
       "DB16737     -0.040922  0.103021 -0.149858 -0.027499 -0.221795 -0.063637   \n",
       "DB16739     -0.004139  0.027369  0.157311  0.198962  0.041405 -0.171322   \n",
       "DB16741     -0.066212  0.067498  0.055399  0.058094  0.152626 -0.204737   \n",
       "DB16745     -0.018558  0.091334  0.185387  0.099291  0.003713 -0.129487   \n",
       "\n",
       "                   98        99  \n",
       "DrugBank ID                      \n",
       "DB00006     -0.277418  0.188064  \n",
       "DB00007     -0.186344  0.194083  \n",
       "DB00014     -0.155581  0.068495  \n",
       "DB00027     -0.208228  0.124561  \n",
       "DB00035     -0.211364  0.152518  \n",
       "...               ...       ...  \n",
       "DB16735      0.083246  0.177505  \n",
       "DB16737     -0.203195  0.029449  \n",
       "DB16739      0.141168 -0.008092  \n",
       "DB16741     -0.001392  0.078675  \n",
       "DB16745      0.091416  0.093096  \n",
       "\n",
       "[11239 rows x 100 columns]"
      ]
     },
     "execution_count": 34,
     "metadata": {},
     "output_type": "execute_result"
    }
   ],
   "source": [
    "node_features"
   ]
  },
  {
   "cell_type": "code",
   "execution_count": 35,
   "metadata": {},
   "outputs": [],
   "source": [
    "# !pip install stellargraph"
   ]
  },
  {
   "cell_type": "code",
   "execution_count": 36,
   "metadata": {},
   "outputs": [],
   "source": [
    "# !python --version"
   ]
  },
  {
   "cell_type": "code",
   "execution_count": 37,
   "metadata": {},
   "outputs": [],
   "source": [
    "# !pip show stellargraph"
   ]
  },
  {
   "cell_type": "code",
   "execution_count": 38,
   "metadata": {},
   "outputs": [],
   "source": [
    "# !pip install chardet"
   ]
  },
  {
   "cell_type": "code",
   "execution_count": 39,
   "metadata": {
    "scrolled": true
   },
   "outputs": [
    {
     "name": "stderr",
     "output_type": "stream",
     "text": [
      "2024-11-16 11:34:33.676813: I tensorflow/tsl/cuda/cudart_stub.cc:28] Could not find cuda drivers on your machine, GPU will not be used.\n",
      "2024-11-16 11:34:34.224180: I tensorflow/tsl/cuda/cudart_stub.cc:28] Could not find cuda drivers on your machine, GPU will not be used.\n",
      "2024-11-16 11:34:34.226538: I tensorflow/core/platform/cpu_feature_guard.cc:182] This TensorFlow binary is optimized to use available CPU instructions in performance-critical operations.\n",
      "To enable the following instructions: AVX2 FMA, in other operations, rebuild TensorFlow with the appropriate compiler flags.\n",
      "2024-11-16 11:34:35.732816: W tensorflow/compiler/tf2tensorrt/utils/py_utils.cc:38] TF-TRT Warning: Could not find TensorRT\n"
     ]
    },
    {
     "name": "stdout",
     "output_type": "stream",
     "text": [
      "StellarGraph: Undirected multigraph\n",
      " Nodes: 11239, Edges: 41759\n",
      "\n",
      " Node types:\n",
      "  Drug: [11239]\n",
      "    Features: float32 vector, length 100\n",
      "    Edge types: Drug-Intraction->Drug\n",
      "\n",
      " Edge types:\n",
      "    Drug-Intraction->Drug: [41759]\n",
      "        Weights: all 1 (default)\n",
      "        Features: none\n"
     ]
    }
   ],
   "source": [
    "from stellargraph import StellarGraph\n",
    "G= StellarGraph({\"Drug\": node_features},{\"Intraction\": edge})\n",
    "print(G.info())"
   ]
  },
  {
   "cell_type": "code",
   "execution_count": 40,
   "metadata": {},
   "outputs": [
    {
     "data": {
      "text/plain": [
       "stellargraph.core.graph.StellarGraph"
      ]
     },
     "execution_count": 40,
     "metadata": {},
     "output_type": "execute_result"
    }
   ],
   "source": [
    "type(G)"
   ]
  },
  {
   "cell_type": "code",
   "execution_count": 41,
   "metadata": {},
   "outputs": [],
   "source": [
    "import stellargraph as sg\n",
    "from stellargraph.data import EdgeSplitter\n",
    "from stellargraph.mapper import FullBatchLinkGenerator\n",
    "from stellargraph.layer import GCN, LinkEmbedding\n",
    "\n",
    "\n",
    "from tensorflow import keras\n",
    "from sklearn import preprocessing, feature_extraction, model_selection\n",
    "\n",
    "from stellargraph import globalvar\n",
    "from stellargraph import datasets\n",
    "from IPython.display import display, HTML\n",
    "%matplotlib inline"
   ]
  },
  {
   "cell_type": "code",
   "execution_count": 42,
   "metadata": {},
   "outputs": [
    {
     "name": "stdout",
     "output_type": "stream",
     "text": [
      "** Sampled 8351 positive and 8351 negative edges. **\n"
     ]
    }
   ],
   "source": [
    "# Define an edge splitter on the original graph G:\n",
    "edge_splitter_test = EdgeSplitter(G)\n",
    "\n",
    "# Randomly sample a fraction p=0.1 of all positive links, and same number of negative links, from G, and obtain the\n",
    "# reduced graph G_test with the sampled links removed:\n",
    "G_test, edge_ids_test, edge_labels_test = edge_splitter_test.train_test_split(\n",
    "    p=0.2, method=\"global\", keep_connected=True\n",
    ")"
   ]
  },
  {
   "cell_type": "code",
   "execution_count": 43,
   "metadata": {},
   "outputs": [
    {
     "name": "stdout",
     "output_type": "stream",
     "text": [
      "(16702, 2)\n",
      "(16702,)\n"
     ]
    }
   ],
   "source": [
    "print(edge_ids_test.shape)\n",
    "print(edge_labels_test.shape)"
   ]
  },
  {
   "cell_type": "code",
   "execution_count": 44,
   "metadata": {},
   "outputs": [
    {
     "name": "stdout",
     "output_type": "stream",
     "text": [
      "** Sampled 6681 positive and 6681 negative edges. **\n"
     ]
    }
   ],
   "source": [
    "# Define an edge splitter on the reduced graph G_test:\n",
    "edge_splitter_train = EdgeSplitter(G_test)\n",
    "\n",
    "# Randomly sample a fraction p=0.1 of all positive links, and same number of negative links, from G_test, and obtain the\n",
    "# reduced graph G_train with the sampled links removed:\n",
    "G_train, edge_ids_train, edge_labels_train = edge_splitter_train.train_test_split(\n",
    "    p=0.2, method=\"global\", keep_connected=True\n",
    ")"
   ]
  },
  {
   "cell_type": "code",
   "execution_count": 45,
   "metadata": {},
   "outputs": [
    {
     "name": "stdout",
     "output_type": "stream",
     "text": [
      "(13362, 2)\n",
      "(13362,)\n"
     ]
    }
   ],
   "source": [
    "print(edge_ids_train.shape)\n",
    "print(edge_labels_train.shape)"
   ]
  },
  {
   "cell_type": "code",
   "execution_count": 46,
   "metadata": {},
   "outputs": [],
   "source": [
    "epochs = 100\n"
   ]
  },
  {
   "cell_type": "code",
   "execution_count": 47,
   "metadata": {},
   "outputs": [
    {
     "name": "stdout",
     "output_type": "stream",
     "text": [
      "Using GCN (local pooling) filters...\n"
     ]
    }
   ],
   "source": [
    "train_gen = FullBatchLinkGenerator(G_train, method=\"gcn\")\n",
    "train_flow = train_gen.flow(edge_ids_train, edge_labels_train)"
   ]
  },
  {
   "cell_type": "code",
   "execution_count": 48,
   "metadata": {},
   "outputs": [
    {
     "name": "stdout",
     "output_type": "stream",
     "text": [
      "Using GCN (local pooling) filters...\n"
     ]
    }
   ],
   "source": [
    "test_gen = FullBatchLinkGenerator(G_test, method=\"gcn\")\n",
    "test_flow = test_gen.flow(edge_ids_test, edge_labels_test)"
   ]
  },
  {
   "cell_type": "code",
   "execution_count": 49,
   "metadata": {},
   "outputs": [],
   "source": [
    "gcn = GCN(\n",
    "    layer_sizes=[16, 16,16], activations=[\"relu\", \"relu\",\"relu\"], generator=train_gen, dropout=0.3\n",
    ")"
   ]
  },
  {
   "cell_type": "code",
   "execution_count": 50,
   "metadata": {},
   "outputs": [],
   "source": [
    "x_inp, x_out = gcn.in_out_tensors()\n"
   ]
  },
  {
   "cell_type": "code",
   "execution_count": 51,
   "metadata": {},
   "outputs": [],
   "source": [
    "prediction = LinkEmbedding(activation=\"relu\", method=\"ip\")(x_out)\n"
   ]
  },
  {
   "cell_type": "code",
   "execution_count": 52,
   "metadata": {},
   "outputs": [],
   "source": [
    "prediction = keras.layers.Reshape((-1,))(prediction)\n"
   ]
  },
  {
   "cell_type": "code",
   "execution_count": 53,
   "metadata": {},
   "outputs": [
    {
     "data": {
      "text/plain": [
       "keras.src.engine.keras_tensor.KerasTensor"
      ]
     },
     "execution_count": 53,
     "metadata": {},
     "output_type": "execute_result"
    }
   ],
   "source": [
    "type(prediction)"
   ]
  },
  {
   "cell_type": "code",
   "execution_count": 60,
   "metadata": {},
   "outputs": [
    {
     "name": "stderr",
     "output_type": "stream",
     "text": [
      "WARNING:absl:`lr` is deprecated in Keras optimizer, please use `learning_rate` or use the legacy optimizer, e.g.,tf.keras.optimizers.legacy.Adam.\n"
     ]
    }
   ],
   "source": [
    "model = keras.Model(inputs=x_inp, outputs=prediction)\n",
    "\n",
    "model.compile(\n",
    "    optimizer=keras.optimizers.Adam(lr=0.01),\n",
    "    loss=keras.losses.binary_crossentropy,\n",
    "    # not just \"acc\" due to https://github.com/tensorflow/tensorflow/issues/41361\n",
    "    metrics=[keras.metrics.BinaryAccuracy()],\n",
    ")"
   ]
  },
  {
   "cell_type": "code",
   "execution_count": 61,
   "metadata": {},
   "outputs": [
    {
     "data": {
      "text/plain": [
       "<keras.src.engine.functional.Functional at 0x7f9eaca14340>"
      ]
     },
     "execution_count": 61,
     "metadata": {},
     "output_type": "execute_result"
    }
   ],
   "source": [
    "model"
   ]
  },
  {
   "cell_type": "code",
   "execution_count": 62,
   "metadata": {},
   "outputs": [
    {
     "name": "stdout",
     "output_type": "stream",
     "text": [
      "Epoch 1/100\n"
     ]
    },
    {
     "ename": "ValueError",
     "evalue": "in user code:\n\n    File \"/home/souravdas/.local/lib/python3.8/site-packages/keras/src/engine/training.py\", line 1338, in train_function  *\n        return step_function(self, iterator)\n    File \"/home/souravdas/.local/lib/python3.8/site-packages/keras/src/engine/training.py\", line 1322, in step_function  **\n        outputs = model.distribute_strategy.run(run_step, args=(data,))\n    File \"/home/souravdas/.local/lib/python3.8/site-packages/keras/src/engine/training.py\", line 1303, in run_step  **\n        outputs = model.train_step(data)\n    File \"/home/souravdas/.local/lib/python3.8/site-packages/keras/src/engine/training.py\", line 1080, in train_step\n        y_pred = self(x, training=True)\n    File \"/home/souravdas/.local/lib/python3.8/site-packages/keras/src/utils/traceback_utils.py\", line 70, in error_handler\n        raise e.with_traceback(filtered_tb) from None\n    File \"/tmp/__autograph_generated_file5do2tm0h.py\", line 58, in tf__call\n        ag__.if_stmt(ag__.converted_call(ag__.ld(K).is_sparse, (ag__.ld(A),), None, fscope), if_body_2, else_body_2, get_state_2, set_state_2, ('h_graph',), 1)\n    File \"/tmp/__autograph_generated_file5do2tm0h.py\", line 35, in if_body_2\n        ag__.if_stmt((ag__.ld(features).shape[0] != 1), if_body, else_body, get_state, set_state, (), 0)\n    File \"/tmp/__autograph_generated_file5do2tm0h.py\", line 31, in if_body\n        raise ag__.converted_call(ag__.ld(ValueError), (f'features: expected batch dimension = 1 when using sparse adjacency matrix in GraphConvolution, found features batch dimension {ag__.ld(features).shape[0]}',), None, fscope)\n\n    ValueError: Exception encountered when calling layer 'graph_convolution' (type GraphConvolution).\n    \n    in user code:\n    \n        File \"/home/souravdas/.local/lib/python3.8/site-packages/stellargraph/layer/gcn.py\", line 200, in call  *\n            raise ValueError(\n    \n        ValueError: features: expected batch dimension = 1 when using sparse adjacency matrix in GraphConvolution, found features batch dimension None\n    \n    \n    Call arguments received by layer 'graph_convolution' (type GraphConvolution):\n      • inputs=['tf.Tensor(shape=(None, None, None), dtype=float32)', 'SparseTensor(indices=Tensor(\"model_1/squeezed_sparse_conversion/Squeeze:0\", shape=(None, None), dtype=int64), values=Tensor(\"model_1/squeezed_sparse_conversion/Squeeze_1:0\", shape=(None,), dtype=float32), dense_shape=Tensor(\"model_1/squeezed_sparse_conversion/SparseTensor/dense_shape:0\", shape=(2,), dtype=int64))']\n",
     "output_type": "error",
     "traceback": [
      "\u001b[0;31m---------------------------------------------------------------------------\u001b[0m",
      "\u001b[0;31mValueError\u001b[0m                                Traceback (most recent call last)",
      "Cell \u001b[0;32mIn[62], line 1\u001b[0m\n\u001b[0;32m----> 1\u001b[0m history \u001b[38;5;241m=\u001b[39m \u001b[43mmodel\u001b[49m\u001b[38;5;241;43m.\u001b[39;49m\u001b[43mfit\u001b[49m\u001b[43m(\u001b[49m\n\u001b[1;32m      2\u001b[0m \u001b[43m    \u001b[49m\u001b[43mtrain_flow\u001b[49m\u001b[43m,\u001b[49m\u001b[43m \u001b[49m\u001b[43mepochs\u001b[49m\u001b[38;5;241;43m=\u001b[39;49m\u001b[43mepochs\u001b[49m\u001b[43m,\u001b[49m\u001b[43m \u001b[49m\u001b[43mvalidation_data\u001b[49m\u001b[38;5;241;43m=\u001b[39;49m\u001b[43mtest_flow\u001b[49m\u001b[43m,\u001b[49m\u001b[43m \u001b[49m\u001b[43mverbose\u001b[49m\u001b[38;5;241;43m=\u001b[39;49m\u001b[38;5;241;43m2\u001b[39;49m\u001b[43m,\u001b[49m\u001b[43m \u001b[49m\u001b[43mshuffle\u001b[49m\u001b[38;5;241;43m=\u001b[39;49m\u001b[38;5;28;43;01mFalse\u001b[39;49;00m\n\u001b[1;32m      3\u001b[0m \u001b[43m)\u001b[49m\n",
      "File \u001b[0;32m~/.local/lib/python3.8/site-packages/keras/src/utils/traceback_utils.py:70\u001b[0m, in \u001b[0;36mfilter_traceback.<locals>.error_handler\u001b[0;34m(*args, **kwargs)\u001b[0m\n\u001b[1;32m     67\u001b[0m     filtered_tb \u001b[38;5;241m=\u001b[39m _process_traceback_frames(e\u001b[38;5;241m.\u001b[39m__traceback__)\n\u001b[1;32m     68\u001b[0m     \u001b[38;5;66;03m# To get the full stack trace, call:\u001b[39;00m\n\u001b[1;32m     69\u001b[0m     \u001b[38;5;66;03m# `tf.debugging.disable_traceback_filtering()`\u001b[39;00m\n\u001b[0;32m---> 70\u001b[0m     \u001b[38;5;28;01mraise\u001b[39;00m e\u001b[38;5;241m.\u001b[39mwith_traceback(filtered_tb) \u001b[38;5;28;01mfrom\u001b[39;00m \u001b[38;5;28;01mNone\u001b[39;00m\n\u001b[1;32m     71\u001b[0m \u001b[38;5;28;01mfinally\u001b[39;00m:\n\u001b[1;32m     72\u001b[0m     \u001b[38;5;28;01mdel\u001b[39;00m filtered_tb\n",
      "File \u001b[0;32m/tmp/__autograph_generated_file4ctoryr5.py:15\u001b[0m, in \u001b[0;36mouter_factory.<locals>.inner_factory.<locals>.tf__train_function\u001b[0;34m(iterator)\u001b[0m\n\u001b[1;32m     13\u001b[0m \u001b[38;5;28;01mtry\u001b[39;00m:\n\u001b[1;32m     14\u001b[0m     do_return \u001b[38;5;241m=\u001b[39m \u001b[38;5;28;01mTrue\u001b[39;00m\n\u001b[0;32m---> 15\u001b[0m     retval_ \u001b[38;5;241m=\u001b[39m ag__\u001b[38;5;241m.\u001b[39mconverted_call(ag__\u001b[38;5;241m.\u001b[39mld(step_function), (ag__\u001b[38;5;241m.\u001b[39mld(\u001b[38;5;28mself\u001b[39m), ag__\u001b[38;5;241m.\u001b[39mld(iterator)), \u001b[38;5;28;01mNone\u001b[39;00m, fscope)\n\u001b[1;32m     16\u001b[0m \u001b[38;5;28;01mexcept\u001b[39;00m:\n\u001b[1;32m     17\u001b[0m     do_return \u001b[38;5;241m=\u001b[39m \u001b[38;5;28;01mFalse\u001b[39;00m\n",
      "File \u001b[0;32m/tmp/__autograph_generated_file5do2tm0h.py:58\u001b[0m, in \u001b[0;36mouter_factory.<locals>.inner_factory.<locals>.tf__call\u001b[0;34m(self, inputs)\u001b[0m\n\u001b[1;32m     56\u001b[0m features_sq \u001b[38;5;241m=\u001b[39m ag__\u001b[38;5;241m.\u001b[39mUndefined(\u001b[38;5;124m'\u001b[39m\u001b[38;5;124mfeatures_sq\u001b[39m\u001b[38;5;124m'\u001b[39m)\n\u001b[1;32m     57\u001b[0m h_graph \u001b[38;5;241m=\u001b[39m ag__\u001b[38;5;241m.\u001b[39mUndefined(\u001b[38;5;124m'\u001b[39m\u001b[38;5;124mh_graph\u001b[39m\u001b[38;5;124m'\u001b[39m)\n\u001b[0;32m---> 58\u001b[0m ag__\u001b[38;5;241m.\u001b[39mif_stmt(ag__\u001b[38;5;241m.\u001b[39mconverted_call(ag__\u001b[38;5;241m.\u001b[39mld(K)\u001b[38;5;241m.\u001b[39mis_sparse, (ag__\u001b[38;5;241m.\u001b[39mld(A),), \u001b[38;5;28;01mNone\u001b[39;00m, fscope), if_body_2, else_body_2, get_state_2, set_state_2, (\u001b[38;5;124m'\u001b[39m\u001b[38;5;124mh_graph\u001b[39m\u001b[38;5;124m'\u001b[39m,), \u001b[38;5;241m1\u001b[39m)\n\u001b[1;32m     59\u001b[0m output \u001b[38;5;241m=\u001b[39m ag__\u001b[38;5;241m.\u001b[39mconverted_call(ag__\u001b[38;5;241m.\u001b[39mld(K)\u001b[38;5;241m.\u001b[39mdot, (ag__\u001b[38;5;241m.\u001b[39mld(h_graph), ag__\u001b[38;5;241m.\u001b[39mld(\u001b[38;5;28mself\u001b[39m)\u001b[38;5;241m.\u001b[39mkernel), \u001b[38;5;28;01mNone\u001b[39;00m, fscope)\n\u001b[1;32m     61\u001b[0m \u001b[38;5;28;01mdef\u001b[39;00m \u001b[38;5;21mget_state_3\u001b[39m():\n",
      "File \u001b[0;32m/tmp/__autograph_generated_file5do2tm0h.py:35\u001b[0m, in \u001b[0;36mouter_factory.<locals>.inner_factory.<locals>.tf__call.<locals>.if_body_2\u001b[0;34m()\u001b[0m\n\u001b[1;32m     33\u001b[0m \u001b[38;5;28;01mdef\u001b[39;00m \u001b[38;5;21melse_body\u001b[39m():\n\u001b[1;32m     34\u001b[0m     \u001b[38;5;28;01mpass\u001b[39;00m\n\u001b[0;32m---> 35\u001b[0m \u001b[43mag__\u001b[49m\u001b[38;5;241;43m.\u001b[39;49m\u001b[43mif_stmt\u001b[49m\u001b[43m(\u001b[49m\u001b[43m(\u001b[49m\u001b[43mag__\u001b[49m\u001b[38;5;241;43m.\u001b[39;49m\u001b[43mld\u001b[49m\u001b[43m(\u001b[49m\u001b[43mfeatures\u001b[49m\u001b[43m)\u001b[49m\u001b[38;5;241;43m.\u001b[39;49m\u001b[43mshape\u001b[49m\u001b[43m[\u001b[49m\u001b[38;5;241;43m0\u001b[39;49m\u001b[43m]\u001b[49m\u001b[43m \u001b[49m\u001b[38;5;241;43m!=\u001b[39;49m\u001b[43m \u001b[49m\u001b[38;5;241;43m1\u001b[39;49m\u001b[43m)\u001b[49m\u001b[43m,\u001b[49m\u001b[43m \u001b[49m\u001b[43mif_body\u001b[49m\u001b[43m,\u001b[49m\u001b[43m \u001b[49m\u001b[43melse_body\u001b[49m\u001b[43m,\u001b[49m\u001b[43m \u001b[49m\u001b[43mget_state\u001b[49m\u001b[43m,\u001b[49m\u001b[43m \u001b[49m\u001b[43mset_state\u001b[49m\u001b[43m,\u001b[49m\u001b[43m \u001b[49m\u001b[43m(\u001b[49m\u001b[43m)\u001b[49m\u001b[43m,\u001b[49m\u001b[43m \u001b[49m\u001b[38;5;241;43m0\u001b[39;49m\u001b[43m)\u001b[49m\n\u001b[1;32m     37\u001b[0m \u001b[38;5;28;01mdef\u001b[39;00m \u001b[38;5;21mget_state_1\u001b[39m():\n\u001b[1;32m     38\u001b[0m     \u001b[38;5;28;01mreturn\u001b[39;00m ()\n",
      "File \u001b[0;32m/tmp/__autograph_generated_file5do2tm0h.py:31\u001b[0m, in \u001b[0;36mouter_factory.<locals>.inner_factory.<locals>.tf__call.<locals>.if_body_2.<locals>.if_body\u001b[0;34m()\u001b[0m\n\u001b[1;32m     30\u001b[0m \u001b[38;5;28;01mdef\u001b[39;00m \u001b[38;5;21mif_body\u001b[39m():\n\u001b[0;32m---> 31\u001b[0m     \u001b[38;5;28;01mraise\u001b[39;00m ag__\u001b[38;5;241m.\u001b[39mconverted_call(ag__\u001b[38;5;241m.\u001b[39mld(\u001b[38;5;167;01mValueError\u001b[39;00m), (\u001b[38;5;124mf\u001b[39m\u001b[38;5;124m'\u001b[39m\u001b[38;5;124mfeatures: expected batch dimension = 1 when using sparse adjacency matrix in GraphConvolution, found features batch dimension \u001b[39m\u001b[38;5;132;01m{\u001b[39;00mag__\u001b[38;5;241m.\u001b[39mld(features)\u001b[38;5;241m.\u001b[39mshape[\u001b[38;5;241m0\u001b[39m]\u001b[38;5;132;01m}\u001b[39;00m\u001b[38;5;124m'\u001b[39m,), \u001b[38;5;28;01mNone\u001b[39;00m, fscope)\n",
      "\u001b[0;31mValueError\u001b[0m: in user code:\n\n    File \"/home/souravdas/.local/lib/python3.8/site-packages/keras/src/engine/training.py\", line 1338, in train_function  *\n        return step_function(self, iterator)\n    File \"/home/souravdas/.local/lib/python3.8/site-packages/keras/src/engine/training.py\", line 1322, in step_function  **\n        outputs = model.distribute_strategy.run(run_step, args=(data,))\n    File \"/home/souravdas/.local/lib/python3.8/site-packages/keras/src/engine/training.py\", line 1303, in run_step  **\n        outputs = model.train_step(data)\n    File \"/home/souravdas/.local/lib/python3.8/site-packages/keras/src/engine/training.py\", line 1080, in train_step\n        y_pred = self(x, training=True)\n    File \"/home/souravdas/.local/lib/python3.8/site-packages/keras/src/utils/traceback_utils.py\", line 70, in error_handler\n        raise e.with_traceback(filtered_tb) from None\n    File \"/tmp/__autograph_generated_file5do2tm0h.py\", line 58, in tf__call\n        ag__.if_stmt(ag__.converted_call(ag__.ld(K).is_sparse, (ag__.ld(A),), None, fscope), if_body_2, else_body_2, get_state_2, set_state_2, ('h_graph',), 1)\n    File \"/tmp/__autograph_generated_file5do2tm0h.py\", line 35, in if_body_2\n        ag__.if_stmt((ag__.ld(features).shape[0] != 1), if_body, else_body, get_state, set_state, (), 0)\n    File \"/tmp/__autograph_generated_file5do2tm0h.py\", line 31, in if_body\n        raise ag__.converted_call(ag__.ld(ValueError), (f'features: expected batch dimension = 1 when using sparse adjacency matrix in GraphConvolution, found features batch dimension {ag__.ld(features).shape[0]}',), None, fscope)\n\n    ValueError: Exception encountered when calling layer 'graph_convolution' (type GraphConvolution).\n    \n    in user code:\n    \n        File \"/home/souravdas/.local/lib/python3.8/site-packages/stellargraph/layer/gcn.py\", line 200, in call  *\n            raise ValueError(\n    \n        ValueError: features: expected batch dimension = 1 when using sparse adjacency matrix in GraphConvolution, found features batch dimension None\n    \n    \n    Call arguments received by layer 'graph_convolution' (type GraphConvolution):\n      • inputs=['tf.Tensor(shape=(None, None, None), dtype=float32)', 'SparseTensor(indices=Tensor(\"model_1/squeezed_sparse_conversion/Squeeze:0\", shape=(None, None), dtype=int64), values=Tensor(\"model_1/squeezed_sparse_conversion/Squeeze_1:0\", shape=(None,), dtype=float32), dense_shape=Tensor(\"model_1/squeezed_sparse_conversion/SparseTensor/dense_shape:0\", shape=(2,), dtype=int64))']\n"
     ]
    }
   ],
   "source": [
    "history = model.fit(\n",
    "    train_flow, epochs=epochs, validation_data=test_flow, verbose=2, shuffle=False\n",
    ")"
   ]
  },
  {
   "cell_type": "code",
   "execution_count": 55,
   "metadata": {},
   "outputs": [
    {
     "ename": "ValueError",
     "evalue": "in user code:\n\n    File \"/home/souravdas/.local/lib/python3.8/site-packages/keras/src/engine/training.py\", line 1972, in test_function  *\n        return step_function(self, iterator)\n    File \"/home/souravdas/.local/lib/python3.8/site-packages/keras/src/engine/training.py\", line 1956, in step_function  **\n        outputs = model.distribute_strategy.run(run_step, args=(data,))\n    File \"/home/souravdas/.local/lib/python3.8/site-packages/keras/src/engine/training.py\", line 1944, in run_step  **\n        outputs = model.test_step(data)\n    File \"/home/souravdas/.local/lib/python3.8/site-packages/keras/src/engine/training.py\", line 1850, in test_step\n        y_pred = self(x, training=False)\n    File \"/home/souravdas/.local/lib/python3.8/site-packages/keras/src/utils/traceback_utils.py\", line 70, in error_handler\n        raise e.with_traceback(filtered_tb) from None\n    File \"/tmp/__autograph_generated_file5do2tm0h.py\", line 58, in tf__call\n        ag__.if_stmt(ag__.converted_call(ag__.ld(K).is_sparse, (ag__.ld(A),), None, fscope), if_body_2, else_body_2, get_state_2, set_state_2, ('h_graph',), 1)\n    File \"/tmp/__autograph_generated_file5do2tm0h.py\", line 35, in if_body_2\n        ag__.if_stmt((ag__.ld(features).shape[0] != 1), if_body, else_body, get_state, set_state, (), 0)\n    File \"/tmp/__autograph_generated_file5do2tm0h.py\", line 31, in if_body\n        raise ag__.converted_call(ag__.ld(ValueError), (f'features: expected batch dimension = 1 when using sparse adjacency matrix in GraphConvolution, found features batch dimension {ag__.ld(features).shape[0]}',), None, fscope)\n\n    ValueError: Exception encountered when calling layer 'graph_convolution' (type GraphConvolution).\n    \n    in user code:\n    \n        File \"/home/souravdas/.local/lib/python3.8/site-packages/stellargraph/layer/gcn.py\", line 200, in call  *\n            raise ValueError(\n    \n        ValueError: features: expected batch dimension = 1 when using sparse adjacency matrix in GraphConvolution, found features batch dimension None\n    \n    \n    Call arguments received by layer 'graph_convolution' (type GraphConvolution):\n      • inputs=['tf.Tensor(shape=(None, None, None), dtype=float32)', 'SparseTensor(indices=Tensor(\"model/squeezed_sparse_conversion/Squeeze:0\", shape=(None, None), dtype=int64), values=Tensor(\"model/squeezed_sparse_conversion/Squeeze_1:0\", shape=(None,), dtype=float32), dense_shape=Tensor(\"model/squeezed_sparse_conversion/SparseTensor/dense_shape:0\", shape=(2,), dtype=int64))']\n",
     "output_type": "error",
     "traceback": [
      "\u001b[0;31m---------------------------------------------------------------------------\u001b[0m",
      "\u001b[0;31mValueError\u001b[0m                                Traceback (most recent call last)",
      "Cell \u001b[0;32mIn[55], line 1\u001b[0m\n\u001b[0;32m----> 1\u001b[0m init_train_metrics \u001b[38;5;241m=\u001b[39m \u001b[43mmodel\u001b[49m\u001b[38;5;241;43m.\u001b[39;49m\u001b[43mevaluate\u001b[49m\u001b[43m(\u001b[49m\u001b[43mtrain_flow\u001b[49m\u001b[43m)\u001b[49m\n\u001b[1;32m      2\u001b[0m init_test_metrics \u001b[38;5;241m=\u001b[39m model\u001b[38;5;241m.\u001b[39mevaluate(test_flow)\n\u001b[1;32m      4\u001b[0m \u001b[38;5;28mprint\u001b[39m(\u001b[38;5;124m\"\u001b[39m\u001b[38;5;130;01m\\n\u001b[39;00m\u001b[38;5;124mTrain Set Metrics of the initial (untrained) model:\u001b[39m\u001b[38;5;124m\"\u001b[39m)\n",
      "File \u001b[0;32m~/.local/lib/python3.8/site-packages/keras/src/utils/traceback_utils.py:70\u001b[0m, in \u001b[0;36mfilter_traceback.<locals>.error_handler\u001b[0;34m(*args, **kwargs)\u001b[0m\n\u001b[1;32m     67\u001b[0m     filtered_tb \u001b[38;5;241m=\u001b[39m _process_traceback_frames(e\u001b[38;5;241m.\u001b[39m__traceback__)\n\u001b[1;32m     68\u001b[0m     \u001b[38;5;66;03m# To get the full stack trace, call:\u001b[39;00m\n\u001b[1;32m     69\u001b[0m     \u001b[38;5;66;03m# `tf.debugging.disable_traceback_filtering()`\u001b[39;00m\n\u001b[0;32m---> 70\u001b[0m     \u001b[38;5;28;01mraise\u001b[39;00m e\u001b[38;5;241m.\u001b[39mwith_traceback(filtered_tb) \u001b[38;5;28;01mfrom\u001b[39;00m \u001b[38;5;28;01mNone\u001b[39;00m\n\u001b[1;32m     71\u001b[0m \u001b[38;5;28;01mfinally\u001b[39;00m:\n\u001b[1;32m     72\u001b[0m     \u001b[38;5;28;01mdel\u001b[39;00m filtered_tb\n",
      "File \u001b[0;32m/tmp/__autograph_generated_filedfk_cbwj.py:15\u001b[0m, in \u001b[0;36mouter_factory.<locals>.inner_factory.<locals>.tf__test_function\u001b[0;34m(iterator)\u001b[0m\n\u001b[1;32m     13\u001b[0m \u001b[38;5;28;01mtry\u001b[39;00m:\n\u001b[1;32m     14\u001b[0m     do_return \u001b[38;5;241m=\u001b[39m \u001b[38;5;28;01mTrue\u001b[39;00m\n\u001b[0;32m---> 15\u001b[0m     retval_ \u001b[38;5;241m=\u001b[39m ag__\u001b[38;5;241m.\u001b[39mconverted_call(ag__\u001b[38;5;241m.\u001b[39mld(step_function), (ag__\u001b[38;5;241m.\u001b[39mld(\u001b[38;5;28mself\u001b[39m), ag__\u001b[38;5;241m.\u001b[39mld(iterator)), \u001b[38;5;28;01mNone\u001b[39;00m, fscope)\n\u001b[1;32m     16\u001b[0m \u001b[38;5;28;01mexcept\u001b[39;00m:\n\u001b[1;32m     17\u001b[0m     do_return \u001b[38;5;241m=\u001b[39m \u001b[38;5;28;01mFalse\u001b[39;00m\n",
      "File \u001b[0;32m/tmp/__autograph_generated_file5do2tm0h.py:58\u001b[0m, in \u001b[0;36mouter_factory.<locals>.inner_factory.<locals>.tf__call\u001b[0;34m(self, inputs)\u001b[0m\n\u001b[1;32m     56\u001b[0m features_sq \u001b[38;5;241m=\u001b[39m ag__\u001b[38;5;241m.\u001b[39mUndefined(\u001b[38;5;124m'\u001b[39m\u001b[38;5;124mfeatures_sq\u001b[39m\u001b[38;5;124m'\u001b[39m)\n\u001b[1;32m     57\u001b[0m h_graph \u001b[38;5;241m=\u001b[39m ag__\u001b[38;5;241m.\u001b[39mUndefined(\u001b[38;5;124m'\u001b[39m\u001b[38;5;124mh_graph\u001b[39m\u001b[38;5;124m'\u001b[39m)\n\u001b[0;32m---> 58\u001b[0m ag__\u001b[38;5;241m.\u001b[39mif_stmt(ag__\u001b[38;5;241m.\u001b[39mconverted_call(ag__\u001b[38;5;241m.\u001b[39mld(K)\u001b[38;5;241m.\u001b[39mis_sparse, (ag__\u001b[38;5;241m.\u001b[39mld(A),), \u001b[38;5;28;01mNone\u001b[39;00m, fscope), if_body_2, else_body_2, get_state_2, set_state_2, (\u001b[38;5;124m'\u001b[39m\u001b[38;5;124mh_graph\u001b[39m\u001b[38;5;124m'\u001b[39m,), \u001b[38;5;241m1\u001b[39m)\n\u001b[1;32m     59\u001b[0m output \u001b[38;5;241m=\u001b[39m ag__\u001b[38;5;241m.\u001b[39mconverted_call(ag__\u001b[38;5;241m.\u001b[39mld(K)\u001b[38;5;241m.\u001b[39mdot, (ag__\u001b[38;5;241m.\u001b[39mld(h_graph), ag__\u001b[38;5;241m.\u001b[39mld(\u001b[38;5;28mself\u001b[39m)\u001b[38;5;241m.\u001b[39mkernel), \u001b[38;5;28;01mNone\u001b[39;00m, fscope)\n\u001b[1;32m     61\u001b[0m \u001b[38;5;28;01mdef\u001b[39;00m \u001b[38;5;21mget_state_3\u001b[39m():\n",
      "File \u001b[0;32m/tmp/__autograph_generated_file5do2tm0h.py:35\u001b[0m, in \u001b[0;36mouter_factory.<locals>.inner_factory.<locals>.tf__call.<locals>.if_body_2\u001b[0;34m()\u001b[0m\n\u001b[1;32m     33\u001b[0m \u001b[38;5;28;01mdef\u001b[39;00m \u001b[38;5;21melse_body\u001b[39m():\n\u001b[1;32m     34\u001b[0m     \u001b[38;5;28;01mpass\u001b[39;00m\n\u001b[0;32m---> 35\u001b[0m \u001b[43mag__\u001b[49m\u001b[38;5;241;43m.\u001b[39;49m\u001b[43mif_stmt\u001b[49m\u001b[43m(\u001b[49m\u001b[43m(\u001b[49m\u001b[43mag__\u001b[49m\u001b[38;5;241;43m.\u001b[39;49m\u001b[43mld\u001b[49m\u001b[43m(\u001b[49m\u001b[43mfeatures\u001b[49m\u001b[43m)\u001b[49m\u001b[38;5;241;43m.\u001b[39;49m\u001b[43mshape\u001b[49m\u001b[43m[\u001b[49m\u001b[38;5;241;43m0\u001b[39;49m\u001b[43m]\u001b[49m\u001b[43m \u001b[49m\u001b[38;5;241;43m!=\u001b[39;49m\u001b[43m \u001b[49m\u001b[38;5;241;43m1\u001b[39;49m\u001b[43m)\u001b[49m\u001b[43m,\u001b[49m\u001b[43m \u001b[49m\u001b[43mif_body\u001b[49m\u001b[43m,\u001b[49m\u001b[43m \u001b[49m\u001b[43melse_body\u001b[49m\u001b[43m,\u001b[49m\u001b[43m \u001b[49m\u001b[43mget_state\u001b[49m\u001b[43m,\u001b[49m\u001b[43m \u001b[49m\u001b[43mset_state\u001b[49m\u001b[43m,\u001b[49m\u001b[43m \u001b[49m\u001b[43m(\u001b[49m\u001b[43m)\u001b[49m\u001b[43m,\u001b[49m\u001b[43m \u001b[49m\u001b[38;5;241;43m0\u001b[39;49m\u001b[43m)\u001b[49m\n\u001b[1;32m     37\u001b[0m \u001b[38;5;28;01mdef\u001b[39;00m \u001b[38;5;21mget_state_1\u001b[39m():\n\u001b[1;32m     38\u001b[0m     \u001b[38;5;28;01mreturn\u001b[39;00m ()\n",
      "File \u001b[0;32m/tmp/__autograph_generated_file5do2tm0h.py:31\u001b[0m, in \u001b[0;36mouter_factory.<locals>.inner_factory.<locals>.tf__call.<locals>.if_body_2.<locals>.if_body\u001b[0;34m()\u001b[0m\n\u001b[1;32m     30\u001b[0m \u001b[38;5;28;01mdef\u001b[39;00m \u001b[38;5;21mif_body\u001b[39m():\n\u001b[0;32m---> 31\u001b[0m     \u001b[38;5;28;01mraise\u001b[39;00m ag__\u001b[38;5;241m.\u001b[39mconverted_call(ag__\u001b[38;5;241m.\u001b[39mld(\u001b[38;5;167;01mValueError\u001b[39;00m), (\u001b[38;5;124mf\u001b[39m\u001b[38;5;124m'\u001b[39m\u001b[38;5;124mfeatures: expected batch dimension = 1 when using sparse adjacency matrix in GraphConvolution, found features batch dimension \u001b[39m\u001b[38;5;132;01m{\u001b[39;00mag__\u001b[38;5;241m.\u001b[39mld(features)\u001b[38;5;241m.\u001b[39mshape[\u001b[38;5;241m0\u001b[39m]\u001b[38;5;132;01m}\u001b[39;00m\u001b[38;5;124m'\u001b[39m,), \u001b[38;5;28;01mNone\u001b[39;00m, fscope)\n",
      "\u001b[0;31mValueError\u001b[0m: in user code:\n\n    File \"/home/souravdas/.local/lib/python3.8/site-packages/keras/src/engine/training.py\", line 1972, in test_function  *\n        return step_function(self, iterator)\n    File \"/home/souravdas/.local/lib/python3.8/site-packages/keras/src/engine/training.py\", line 1956, in step_function  **\n        outputs = model.distribute_strategy.run(run_step, args=(data,))\n    File \"/home/souravdas/.local/lib/python3.8/site-packages/keras/src/engine/training.py\", line 1944, in run_step  **\n        outputs = model.test_step(data)\n    File \"/home/souravdas/.local/lib/python3.8/site-packages/keras/src/engine/training.py\", line 1850, in test_step\n        y_pred = self(x, training=False)\n    File \"/home/souravdas/.local/lib/python3.8/site-packages/keras/src/utils/traceback_utils.py\", line 70, in error_handler\n        raise e.with_traceback(filtered_tb) from None\n    File \"/tmp/__autograph_generated_file5do2tm0h.py\", line 58, in tf__call\n        ag__.if_stmt(ag__.converted_call(ag__.ld(K).is_sparse, (ag__.ld(A),), None, fscope), if_body_2, else_body_2, get_state_2, set_state_2, ('h_graph',), 1)\n    File \"/tmp/__autograph_generated_file5do2tm0h.py\", line 35, in if_body_2\n        ag__.if_stmt((ag__.ld(features).shape[0] != 1), if_body, else_body, get_state, set_state, (), 0)\n    File \"/tmp/__autograph_generated_file5do2tm0h.py\", line 31, in if_body\n        raise ag__.converted_call(ag__.ld(ValueError), (f'features: expected batch dimension = 1 when using sparse adjacency matrix in GraphConvolution, found features batch dimension {ag__.ld(features).shape[0]}',), None, fscope)\n\n    ValueError: Exception encountered when calling layer 'graph_convolution' (type GraphConvolution).\n    \n    in user code:\n    \n        File \"/home/souravdas/.local/lib/python3.8/site-packages/stellargraph/layer/gcn.py\", line 200, in call  *\n            raise ValueError(\n    \n        ValueError: features: expected batch dimension = 1 when using sparse adjacency matrix in GraphConvolution, found features batch dimension None\n    \n    \n    Call arguments received by layer 'graph_convolution' (type GraphConvolution):\n      • inputs=['tf.Tensor(shape=(None, None, None), dtype=float32)', 'SparseTensor(indices=Tensor(\"model/squeezed_sparse_conversion/Squeeze:0\", shape=(None, None), dtype=int64), values=Tensor(\"model/squeezed_sparse_conversion/Squeeze_1:0\", shape=(None,), dtype=float32), dense_shape=Tensor(\"model/squeezed_sparse_conversion/SparseTensor/dense_shape:0\", shape=(2,), dtype=int64))']\n"
     ]
    }
   ],
   "source": [
    "init_train_metrics = model.evaluate(train_flow)\n",
    "init_test_metrics = model.evaluate(test_flow)\n",
    "\n",
    "print(\"\\nTrain Set Metrics of the initial (untrained) model:\")\n",
    "for name, val in zip(model.metrics_names, init_train_metrics):\n",
    "    print(\"\\t{}: {:0.4f}\".format(name, val))\n",
    "\n",
    "print(\"\\nTest Set Metrics of the initial (untrained) model:\")\n",
    "for name, val in zip(model.metrics_names, init_test_metrics):\n",
    "    print(\"\\t{}: {:0.4f}\".format(name, val))"
   ]
  },
  {
   "cell_type": "code",
   "execution_count": 1,
   "metadata": {},
   "outputs": [
    {
     "ename": "NameError",
     "evalue": "name 'model' is not defined",
     "output_type": "error",
     "traceback": [
      "\u001b[0;31m---------------------------------------------------------------------------\u001b[0m",
      "\u001b[0;31mNameError\u001b[0m                                 Traceback (most recent call last)",
      "Cell \u001b[0;32mIn[1], line 1\u001b[0m\n\u001b[0;32m----> 1\u001b[0m history \u001b[38;5;241m=\u001b[39m \u001b[43mmodel\u001b[49m\u001b[38;5;241m.\u001b[39mfit(\n\u001b[1;32m      2\u001b[0m     train_flow, epochs\u001b[38;5;241m=\u001b[39mepochs, validation_data\u001b[38;5;241m=\u001b[39mtest_flow, verbose\u001b[38;5;241m=\u001b[39m\u001b[38;5;241m2\u001b[39m, shuffle\u001b[38;5;241m=\u001b[39m\u001b[38;5;28;01mFalse\u001b[39;00m\n\u001b[1;32m      3\u001b[0m )\n",
      "\u001b[0;31mNameError\u001b[0m: name 'model' is not defined"
     ]
    }
   ],
   "source": [
    "history = model.fit(\n",
    "    train_flow, epochs=epochs, validation_data=test_flow, verbose=2, shuffle=False\n",
    ")"
   ]
  },
  {
   "cell_type": "code",
   "execution_count": 56,
   "metadata": {},
   "outputs": [
    {
     "ename": "NameError",
     "evalue": "name 'history' is not defined",
     "output_type": "error",
     "traceback": [
      "\u001b[0;31m---------------------------------------------------------------------------\u001b[0m",
      "\u001b[0;31mNameError\u001b[0m                                 Traceback (most recent call last)",
      "Cell \u001b[0;32mIn[56], line 1\u001b[0m\n\u001b[0;32m----> 1\u001b[0m sg\u001b[38;5;241m.\u001b[39mutils\u001b[38;5;241m.\u001b[39mplot_history(\u001b[43mhistory\u001b[49m)\n",
      "\u001b[0;31mNameError\u001b[0m: name 'history' is not defined"
     ]
    }
   ],
   "source": [
    "sg.utils.plot_history(history)\n"
   ]
  },
  {
   "cell_type": "code",
   "execution_count": 45,
   "metadata": {},
   "outputs": [
    {
     "name": "stdout",
     "output_type": "stream",
     "text": [
      "1/1 [==============================] - 0s 80ms/step - loss: 0.0924 - binary_accuracy: 0.9828\n",
      "1/1 [==============================] - 0s 94ms/step - loss: 0.0959 - binary_accuracy: 0.9811\n",
      "\n",
      "Train Set Metrics of the trained model:\n",
      "\tloss: 0.0924\n",
      "\tbinary_accuracy: 0.9828\n",
      "\n",
      "Test Set Metrics of the trained model:\n",
      "\tloss: 0.0959\n",
      "\tbinary_accuracy: 0.9811\n"
     ]
    }
   ],
   "source": [
    "train_metrics = model.evaluate(train_flow)\n",
    "test_metrics = model.evaluate(test_flow)\n",
    "\n",
    "print(\"\\nTrain Set Metrics of the trained model:\")\n",
    "for name, val in zip(model.metrics_names, train_metrics):\n",
    "    print(\"\\t{}: {:0.4f}\".format(name, val))\n",
    "\n",
    "print(\"\\nTest Set Metrics of the trained model:\")\n",
    "for name, val in zip(model.metrics_names, test_metrics):\n",
    "    print(\"\\t{}: {:0.4f}\".format(name, val))"
   ]
  },
  {
   "cell_type": "code",
   "execution_count": 46,
   "metadata": {},
   "outputs": [],
   "source": [
    "y_pred = model.predict(train_flow)\n",
    "Y=model.predict(test_flow)"
   ]
  },
  {
   "cell_type": "code",
   "execution_count": 47,
   "metadata": {},
   "outputs": [
    {
     "data": {
      "text/plain": [
       "(1, 13362)"
      ]
     },
     "execution_count": 47,
     "metadata": {},
     "output_type": "execute_result"
    }
   ],
   "source": [
    "y_pred.shape"
   ]
  },
  {
   "cell_type": "code",
   "execution_count": 48,
   "metadata": {},
   "outputs": [
    {
     "data": {
      "text/plain": [
       "(1, 16702)"
      ]
     },
     "execution_count": 48,
     "metadata": {},
     "output_type": "execute_result"
    }
   ],
   "source": [
    "Y.shape"
   ]
  },
  {
   "cell_type": "code",
   "execution_count": 49,
   "metadata": {},
   "outputs": [],
   "source": [
    "import numpy as np"
   ]
  },
  {
   "cell_type": "code",
   "execution_count": 50,
   "metadata": {},
   "outputs": [],
   "source": [
    "em=np.concatenate((Y, y_pred), axis=1)"
   ]
  },
  {
   "cell_type": "code",
   "execution_count": 51,
   "metadata": {},
   "outputs": [],
   "source": [
    "la=np.concatenate((edge_labels_train, edge_labels_test), axis=0)"
   ]
  },
  {
   "cell_type": "code",
   "execution_count": 52,
   "metadata": {},
   "outputs": [
    {
     "data": {
      "text/plain": [
       "array([1, 1, 1, ..., 0, 0, 0])"
      ]
     },
     "execution_count": 52,
     "metadata": {},
     "output_type": "execute_result"
    }
   ],
   "source": [
    "la"
   ]
  },
  {
   "cell_type": "code",
   "execution_count": 53,
   "metadata": {},
   "outputs": [],
   "source": [
    "L=np.concatenate((edge_ids_train, edge_ids_test), axis=0)"
   ]
  },
  {
   "cell_type": "code",
   "execution_count": 54,
   "metadata": {},
   "outputs": [
    {
     "data": {
      "text/plain": [
       "(1, 30064)"
      ]
     },
     "execution_count": 54,
     "metadata": {},
     "output_type": "execute_result"
    }
   ],
   "source": [
    "em.shape"
   ]
  },
  {
   "cell_type": "code",
   "execution_count": 55,
   "metadata": {},
   "outputs": [
    {
     "data": {
      "text/plain": [
       "(30064, 2)"
      ]
     },
     "execution_count": 55,
     "metadata": {},
     "output_type": "execute_result"
    }
   ],
   "source": [
    "L.shape"
   ]
  },
  {
   "cell_type": "code",
   "execution_count": 56,
   "metadata": {},
   "outputs": [
    {
     "data": {
      "text/plain": [
       "array([[1.0803328 ],\n",
       "       [0.93114614],\n",
       "       [1.4017355 ],\n",
       "       ...,\n",
       "       [0.        ],\n",
       "       [0.20861408],\n",
       "       [0.        ]], dtype=float32)"
      ]
     },
     "execution_count": 56,
     "metadata": {},
     "output_type": "execute_result"
    }
   ],
   "source": [
    "em=np.transpose(em)\n",
    "em"
   ]
  },
  {
   "cell_type": "code",
   "execution_count": 57,
   "metadata": {},
   "outputs": [],
   "source": [
    "scores=np.concatenate((L, em), axis=1)"
   ]
  },
  {
   "cell_type": "code",
   "execution_count": 58,
   "metadata": {},
   "outputs": [],
   "source": [
    "Scores=pd.DataFrame(scores)"
   ]
  },
  {
   "cell_type": "code",
   "execution_count": 59,
   "metadata": {},
   "outputs": [],
   "source": [
    "Scores[3]=la"
   ]
  },
  {
   "cell_type": "code",
   "execution_count": 60,
   "metadata": {},
   "outputs": [
    {
     "data": {
      "text/html": [
       "<div>\n",
       "<style scoped>\n",
       "    .dataframe tbody tr th:only-of-type {\n",
       "        vertical-align: middle;\n",
       "    }\n",
       "\n",
       "    .dataframe tbody tr th {\n",
       "        vertical-align: top;\n",
       "    }\n",
       "\n",
       "    .dataframe thead th {\n",
       "        text-align: right;\n",
       "    }\n",
       "</style>\n",
       "<table border=\"1\" class=\"dataframe\">\n",
       "  <thead>\n",
       "    <tr style=\"text-align: right;\">\n",
       "      <th></th>\n",
       "      <th>0</th>\n",
       "      <th>1</th>\n",
       "      <th>2</th>\n",
       "      <th>3</th>\n",
       "    </tr>\n",
       "  </thead>\n",
       "  <tbody>\n",
       "    <tr>\n",
       "      <th>0</th>\n",
       "      <td>DB00317</td>\n",
       "      <td>DB00448</td>\n",
       "      <td>1.08033</td>\n",
       "      <td>1</td>\n",
       "    </tr>\n",
       "    <tr>\n",
       "      <th>1</th>\n",
       "      <td>DB00956</td>\n",
       "      <td>DB01176</td>\n",
       "      <td>0.931146</td>\n",
       "      <td>1</td>\n",
       "    </tr>\n",
       "    <tr>\n",
       "      <th>2</th>\n",
       "      <td>DB00796</td>\n",
       "      <td>DB09282</td>\n",
       "      <td>1.40174</td>\n",
       "      <td>1</td>\n",
       "    </tr>\n",
       "    <tr>\n",
       "      <th>3</th>\n",
       "      <td>DB00384</td>\n",
       "      <td>DB00908</td>\n",
       "      <td>0.998205</td>\n",
       "      <td>1</td>\n",
       "    </tr>\n",
       "    <tr>\n",
       "      <th>4</th>\n",
       "      <td>DB00220</td>\n",
       "      <td>DB00696</td>\n",
       "      <td>0.994071</td>\n",
       "      <td>1</td>\n",
       "    </tr>\n",
       "    <tr>\n",
       "      <th>...</th>\n",
       "      <td>...</td>\n",
       "      <td>...</td>\n",
       "      <td>...</td>\n",
       "      <td>...</td>\n",
       "    </tr>\n",
       "    <tr>\n",
       "      <th>30059</th>\n",
       "      <td>DB11786</td>\n",
       "      <td>DB00415</td>\n",
       "      <td>0</td>\n",
       "      <td>0</td>\n",
       "    </tr>\n",
       "    <tr>\n",
       "      <th>30060</th>\n",
       "      <td>DB07178</td>\n",
       "      <td>DB14845</td>\n",
       "      <td>0</td>\n",
       "      <td>0</td>\n",
       "    </tr>\n",
       "    <tr>\n",
       "      <th>30061</th>\n",
       "      <td>DB00853</td>\n",
       "      <td>DB02235</td>\n",
       "      <td>0</td>\n",
       "      <td>0</td>\n",
       "    </tr>\n",
       "    <tr>\n",
       "      <th>30062</th>\n",
       "      <td>DB16229</td>\n",
       "      <td>DB02238</td>\n",
       "      <td>0.208614</td>\n",
       "      <td>0</td>\n",
       "    </tr>\n",
       "    <tr>\n",
       "      <th>30063</th>\n",
       "      <td>DB00197</td>\n",
       "      <td>DB00761</td>\n",
       "      <td>0</td>\n",
       "      <td>0</td>\n",
       "    </tr>\n",
       "  </tbody>\n",
       "</table>\n",
       "<p>30064 rows × 4 columns</p>\n",
       "</div>"
      ],
      "text/plain": [
       "             0        1         2  3\n",
       "0      DB00317  DB00448   1.08033  1\n",
       "1      DB00956  DB01176  0.931146  1\n",
       "2      DB00796  DB09282   1.40174  1\n",
       "3      DB00384  DB00908  0.998205  1\n",
       "4      DB00220  DB00696  0.994071  1\n",
       "...        ...      ...       ... ..\n",
       "30059  DB11786  DB00415         0  0\n",
       "30060  DB07178  DB14845         0  0\n",
       "30061  DB00853  DB02235         0  0\n",
       "30062  DB16229  DB02238  0.208614  0\n",
       "30063  DB00197  DB00761         0  0\n",
       "\n",
       "[30064 rows x 4 columns]"
      ]
     },
     "execution_count": 60,
     "metadata": {},
     "output_type": "execute_result"
    }
   ],
   "source": [
    "Scores"
   ]
  },
  {
   "cell_type": "code",
   "execution_count": 61,
   "metadata": {},
   "outputs": [],
   "source": [
    "Scores=Scores.sort_values(by=[2],ascending=False)"
   ]
  },
  {
   "cell_type": "code",
   "execution_count": 62,
   "metadata": {},
   "outputs": [
    {
     "data": {
      "text/html": [
       "<div>\n",
       "<style scoped>\n",
       "    .dataframe tbody tr th:only-of-type {\n",
       "        vertical-align: middle;\n",
       "    }\n",
       "\n",
       "    .dataframe tbody tr th {\n",
       "        vertical-align: top;\n",
       "    }\n",
       "\n",
       "    .dataframe thead th {\n",
       "        text-align: right;\n",
       "    }\n",
       "</style>\n",
       "<table border=\"1\" class=\"dataframe\">\n",
       "  <thead>\n",
       "    <tr style=\"text-align: right;\">\n",
       "      <th></th>\n",
       "      <th>0</th>\n",
       "      <th>1</th>\n",
       "      <th>2</th>\n",
       "      <th>3</th>\n",
       "    </tr>\n",
       "  </thead>\n",
       "  <tbody>\n",
       "    <tr>\n",
       "      <th>3156</th>\n",
       "      <td>DB00344</td>\n",
       "      <td>DB00679</td>\n",
       "      <td>2.94705</td>\n",
       "      <td>1</td>\n",
       "    </tr>\n",
       "    <tr>\n",
       "      <th>6583</th>\n",
       "      <td>DB00344</td>\n",
       "      <td>DB00715</td>\n",
       "      <td>2.6416</td>\n",
       "      <td>1</td>\n",
       "    </tr>\n",
       "    <tr>\n",
       "      <th>20602</th>\n",
       "      <td>DB00319</td>\n",
       "      <td>DB00684</td>\n",
       "      <td>2.64058</td>\n",
       "      <td>1</td>\n",
       "    </tr>\n",
       "    <tr>\n",
       "      <th>6017</th>\n",
       "      <td>DB00307</td>\n",
       "      <td>DB00813</td>\n",
       "      <td>2.59767</td>\n",
       "      <td>1</td>\n",
       "    </tr>\n",
       "    <tr>\n",
       "      <th>21854</th>\n",
       "      <td>DB16097</td>\n",
       "      <td>DB11798</td>\n",
       "      <td>2.59293</td>\n",
       "      <td>0</td>\n",
       "    </tr>\n",
       "    <tr>\n",
       "      <th>18714</th>\n",
       "      <td>DB00413</td>\n",
       "      <td>DB00490</td>\n",
       "      <td>2.58855</td>\n",
       "      <td>1</td>\n",
       "    </tr>\n",
       "    <tr>\n",
       "      <th>17459</th>\n",
       "      <td>DB00921</td>\n",
       "      <td>DB01236</td>\n",
       "      <td>2.58545</td>\n",
       "      <td>1</td>\n",
       "    </tr>\n",
       "    <tr>\n",
       "      <th>6283</th>\n",
       "      <td>DB00363</td>\n",
       "      <td>DB06700</td>\n",
       "      <td>2.56322</td>\n",
       "      <td>1</td>\n",
       "    </tr>\n",
       "    <tr>\n",
       "      <th>22197</th>\n",
       "      <td>DB06934</td>\n",
       "      <td>DB14868</td>\n",
       "      <td>2.52347</td>\n",
       "      <td>0</td>\n",
       "    </tr>\n",
       "    <tr>\n",
       "      <th>18486</th>\n",
       "      <td>DB00956</td>\n",
       "      <td>DB08820</td>\n",
       "      <td>2.48452</td>\n",
       "      <td>1</td>\n",
       "    </tr>\n",
       "  </tbody>\n",
       "</table>\n",
       "</div>"
      ],
      "text/plain": [
       "             0        1        2  3\n",
       "3156   DB00344  DB00679  2.94705  1\n",
       "6583   DB00344  DB00715   2.6416  1\n",
       "20602  DB00319  DB00684  2.64058  1\n",
       "6017   DB00307  DB00813  2.59767  1\n",
       "21854  DB16097  DB11798  2.59293  0\n",
       "18714  DB00413  DB00490  2.58855  1\n",
       "17459  DB00921  DB01236  2.58545  1\n",
       "6283   DB00363  DB06700  2.56322  1\n",
       "22197  DB06934  DB14868  2.52347  0\n",
       "18486  DB00956  DB08820  2.48452  1"
      ]
     },
     "execution_count": 62,
     "metadata": {},
     "output_type": "execute_result"
    }
   ],
   "source": [
    "Scores.head(10)"
   ]
  },
  {
   "cell_type": "code",
   "execution_count": 64,
   "metadata": {},
   "outputs": [],
   "source": [
    "Scores.to_csv('Scores.csv')"
   ]
  },
  {
   "cell_type": "code",
   "execution_count": 7,
   "metadata": {},
   "outputs": [],
   "source": [
    "G=nx.read_adjlist(\"DDI.csv\")"
   ]
  },
  {
   "cell_type": "code",
   "execution_count": null,
   "metadata": {},
   "outputs": [],
   "source": [
    "nx.draw(G)"
   ]
  },
  {
   "cell_type": "code",
   "execution_count": null,
   "metadata": {},
   "outputs": [],
   "source": [
    "communities_generator = community.girvan_newman(G)\n",
    "top_level_communities = next(communities_generator)\n",
    "next_level_communities = next(communities_generator)\n",
    "sorted(map(sorted, next_level_communities))"
   ]
  }
 ],
 "metadata": {
  "kernelspec": {
   "display_name": "Python 3",
   "language": "python",
   "name": "python3"
  },
  "language_info": {
   "codemirror_mode": {
    "name": "ipython",
    "version": 3
   },
   "file_extension": ".py",
   "mimetype": "text/x-python",
   "name": "python",
   "nbconvert_exporter": "python",
   "pygments_lexer": "ipython3",
   "version": "3.8.20"
  },
  "widgets": {
   "application/vnd.jupyter.widget-state+json": {
    "state": {},
    "version_major": 2,
    "version_minor": 0
   }
  }
 },
 "nbformat": 4,
 "nbformat_minor": 4
}
